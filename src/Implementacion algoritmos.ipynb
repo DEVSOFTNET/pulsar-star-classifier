{
 "cells": [
  {
   "cell_type": "code",
   "execution_count": 113,
   "metadata": {},
   "outputs": [],
   "source": [
    "import numpy as np\n",
    "import pandas as pd\n",
    "\n",
    "from sklearn.preprocessing import scale\n",
    "from sklearn.model_selection import train_test_split\n",
    "\n",
    "from sklearn.tree import DecisionTreeClassifier\n",
    "from sklearn.ensemble import RandomForestClassifier\n",
    "from sklearn.linear_model import LogisticRegression\n",
    "\n",
    "from sklearn.metrics import f1_score\n",
    "%matplotlib inline"
   ]
  },
  {
   "cell_type": "markdown",
   "metadata": {},
   "source": [
    "Cargamos la informacion"
   ]
  },
  {
   "cell_type": "code",
   "execution_count": 114,
   "metadata": {
    "scrolled": true
   },
   "outputs": [
    {
     "data": {
      "text/html": [
       "<div>\n",
       "<style scoped>\n",
       "    .dataframe tbody tr th:only-of-type {\n",
       "        vertical-align: middle;\n",
       "    }\n",
       "\n",
       "    .dataframe tbody tr th {\n",
       "        vertical-align: top;\n",
       "    }\n",
       "\n",
       "    .dataframe thead th {\n",
       "        text-align: right;\n",
       "    }\n",
       "</style>\n",
       "<table border=\"1\" class=\"dataframe\">\n",
       "  <thead>\n",
       "    <tr style=\"text-align: right;\">\n",
       "      <th></th>\n",
       "      <th>MeanIntegratedProfile</th>\n",
       "      <th>StdIntegratedProfile</th>\n",
       "      <th>ExcessKurtosisIntegratedProfile</th>\n",
       "      <th>SkewnessIntegratedProfile</th>\n",
       "      <th>MeanDMSNRCurve</th>\n",
       "      <th>StdDMSNRCurve</th>\n",
       "      <th>ExcessKurtosisDMSNRCurve</th>\n",
       "      <th>SkewnessDMSNRCurve</th>\n",
       "      <th>Class</th>\n",
       "    </tr>\n",
       "  </thead>\n",
       "  <tbody>\n",
       "    <tr>\n",
       "      <th>0</th>\n",
       "      <td>140.562500</td>\n",
       "      <td>55.683782</td>\n",
       "      <td>-0.234571</td>\n",
       "      <td>-0.699648</td>\n",
       "      <td>3.199833</td>\n",
       "      <td>19.110426</td>\n",
       "      <td>7.975532</td>\n",
       "      <td>74.242225</td>\n",
       "      <td>0</td>\n",
       "    </tr>\n",
       "    <tr>\n",
       "      <th>1</th>\n",
       "      <td>102.507812</td>\n",
       "      <td>58.882430</td>\n",
       "      <td>0.465318</td>\n",
       "      <td>-0.515088</td>\n",
       "      <td>1.677258</td>\n",
       "      <td>14.860146</td>\n",
       "      <td>10.576487</td>\n",
       "      <td>127.393580</td>\n",
       "      <td>0</td>\n",
       "    </tr>\n",
       "    <tr>\n",
       "      <th>2</th>\n",
       "      <td>103.015625</td>\n",
       "      <td>39.341649</td>\n",
       "      <td>0.323328</td>\n",
       "      <td>1.051164</td>\n",
       "      <td>3.121237</td>\n",
       "      <td>21.744669</td>\n",
       "      <td>7.735822</td>\n",
       "      <td>63.171909</td>\n",
       "      <td>0</td>\n",
       "    </tr>\n",
       "    <tr>\n",
       "      <th>3</th>\n",
       "      <td>136.750000</td>\n",
       "      <td>57.178449</td>\n",
       "      <td>-0.068415</td>\n",
       "      <td>-0.636238</td>\n",
       "      <td>3.642977</td>\n",
       "      <td>20.959280</td>\n",
       "      <td>6.896499</td>\n",
       "      <td>53.593661</td>\n",
       "      <td>0</td>\n",
       "    </tr>\n",
       "    <tr>\n",
       "      <th>4</th>\n",
       "      <td>88.726562</td>\n",
       "      <td>40.672225</td>\n",
       "      <td>0.600866</td>\n",
       "      <td>1.123492</td>\n",
       "      <td>1.178930</td>\n",
       "      <td>11.468720</td>\n",
       "      <td>14.269573</td>\n",
       "      <td>252.567306</td>\n",
       "      <td>0</td>\n",
       "    </tr>\n",
       "  </tbody>\n",
       "</table>\n",
       "</div>"
      ],
      "text/plain": [
       "   MeanIntegratedProfile  StdIntegratedProfile  \\\n",
       "0             140.562500             55.683782   \n",
       "1             102.507812             58.882430   \n",
       "2             103.015625             39.341649   \n",
       "3             136.750000             57.178449   \n",
       "4              88.726562             40.672225   \n",
       "\n",
       "   ExcessKurtosisIntegratedProfile  SkewnessIntegratedProfile  MeanDMSNRCurve  \\\n",
       "0                        -0.234571                  -0.699648        3.199833   \n",
       "1                         0.465318                  -0.515088        1.677258   \n",
       "2                         0.323328                   1.051164        3.121237   \n",
       "3                        -0.068415                  -0.636238        3.642977   \n",
       "4                         0.600866                   1.123492        1.178930   \n",
       "\n",
       "   StdDMSNRCurve  ExcessKurtosisDMSNRCurve  SkewnessDMSNRCurve  Class  \n",
       "0      19.110426                  7.975532           74.242225      0  \n",
       "1      14.860146                 10.576487          127.393580      0  \n",
       "2      21.744669                  7.735822           63.171909      0  \n",
       "3      20.959280                  6.896499           53.593661      0  \n",
       "4      11.468720                 14.269573          252.567306      0  "
      ]
     },
     "execution_count": 114,
     "metadata": {},
     "output_type": "execute_result"
    }
   ],
   "source": [
    "data = pd.read_csv('HTRU_2.csv',\n",
    "                   header = None, \n",
    "                   names = ['MeanIntegratedProfile',\n",
    "                            'StdIntegratedProfile',\n",
    "                            'ExcessKurtosisIntegratedProfile',\n",
    "                            'SkewnessIntegratedProfile',\n",
    "                            'MeanDMSNRCurve',\n",
    "                            'StdDMSNRCurve',\n",
    "                            'ExcessKurtosisDMSNRCurve',\n",
    "                            'SkewnessDMSNRCurve',\n",
    "                            'Class'])\n",
    "\n",
    "data.head()"
   ]
  },
  {
   "cell_type": "markdown",
   "metadata": {},
   "source": [
    "Separamos la variable clasificadora"
   ]
  },
  {
   "cell_type": "code",
   "execution_count": 115,
   "metadata": {},
   "outputs": [],
   "source": [
    "x = data.drop('Class', axis = 1, inplace = False)\n",
    "y = data['Class']"
   ]
  },
  {
   "cell_type": "markdown",
   "metadata": {},
   "source": [
    "Visualizaremos las estadisticas descriptivas de las caracteristicas"
   ]
  },
  {
   "cell_type": "code",
   "execution_count": 116,
   "metadata": {},
   "outputs": [
    {
     "data": {
      "text/html": [
       "<div>\n",
       "<style scoped>\n",
       "    .dataframe tbody tr th:only-of-type {\n",
       "        vertical-align: middle;\n",
       "    }\n",
       "\n",
       "    .dataframe tbody tr th {\n",
       "        vertical-align: top;\n",
       "    }\n",
       "\n",
       "    .dataframe thead th {\n",
       "        text-align: right;\n",
       "    }\n",
       "</style>\n",
       "<table border=\"1\" class=\"dataframe\">\n",
       "  <thead>\n",
       "    <tr style=\"text-align: right;\">\n",
       "      <th></th>\n",
       "      <th>MeanIntegratedProfile</th>\n",
       "      <th>StdIntegratedProfile</th>\n",
       "      <th>ExcessKurtosisIntegratedProfile</th>\n",
       "      <th>SkewnessIntegratedProfile</th>\n",
       "      <th>MeanDMSNRCurve</th>\n",
       "      <th>StdDMSNRCurve</th>\n",
       "      <th>ExcessKurtosisDMSNRCurve</th>\n",
       "      <th>SkewnessDMSNRCurve</th>\n",
       "    </tr>\n",
       "  </thead>\n",
       "  <tbody>\n",
       "    <tr>\n",
       "      <th>count</th>\n",
       "      <td>17898.000000</td>\n",
       "      <td>17898.000000</td>\n",
       "      <td>17898.000000</td>\n",
       "      <td>17898.000000</td>\n",
       "      <td>17898.000000</td>\n",
       "      <td>17898.000000</td>\n",
       "      <td>17898.000000</td>\n",
       "      <td>17898.000000</td>\n",
       "    </tr>\n",
       "    <tr>\n",
       "      <th>mean</th>\n",
       "      <td>111.079968</td>\n",
       "      <td>46.549532</td>\n",
       "      <td>0.477857</td>\n",
       "      <td>1.770279</td>\n",
       "      <td>12.614400</td>\n",
       "      <td>26.326515</td>\n",
       "      <td>8.303556</td>\n",
       "      <td>104.857709</td>\n",
       "    </tr>\n",
       "    <tr>\n",
       "      <th>std</th>\n",
       "      <td>25.652935</td>\n",
       "      <td>6.843189</td>\n",
       "      <td>1.064040</td>\n",
       "      <td>6.167913</td>\n",
       "      <td>29.472897</td>\n",
       "      <td>19.470572</td>\n",
       "      <td>4.506092</td>\n",
       "      <td>106.514540</td>\n",
       "    </tr>\n",
       "    <tr>\n",
       "      <th>min</th>\n",
       "      <td>5.812500</td>\n",
       "      <td>24.772042</td>\n",
       "      <td>-1.876011</td>\n",
       "      <td>-1.791886</td>\n",
       "      <td>0.213211</td>\n",
       "      <td>7.370432</td>\n",
       "      <td>-3.139270</td>\n",
       "      <td>-1.976976</td>\n",
       "    </tr>\n",
       "    <tr>\n",
       "      <th>25%</th>\n",
       "      <td>100.929688</td>\n",
       "      <td>42.376018</td>\n",
       "      <td>0.027098</td>\n",
       "      <td>-0.188572</td>\n",
       "      <td>1.923077</td>\n",
       "      <td>14.437332</td>\n",
       "      <td>5.781506</td>\n",
       "      <td>34.960504</td>\n",
       "    </tr>\n",
       "    <tr>\n",
       "      <th>50%</th>\n",
       "      <td>115.078125</td>\n",
       "      <td>46.947479</td>\n",
       "      <td>0.223240</td>\n",
       "      <td>0.198710</td>\n",
       "      <td>2.801839</td>\n",
       "      <td>18.461316</td>\n",
       "      <td>8.433515</td>\n",
       "      <td>83.064556</td>\n",
       "    </tr>\n",
       "    <tr>\n",
       "      <th>75%</th>\n",
       "      <td>127.085938</td>\n",
       "      <td>51.023202</td>\n",
       "      <td>0.473325</td>\n",
       "      <td>0.927783</td>\n",
       "      <td>5.464256</td>\n",
       "      <td>28.428104</td>\n",
       "      <td>10.702959</td>\n",
       "      <td>139.309331</td>\n",
       "    </tr>\n",
       "    <tr>\n",
       "      <th>max</th>\n",
       "      <td>192.617188</td>\n",
       "      <td>98.778911</td>\n",
       "      <td>8.069522</td>\n",
       "      <td>68.101622</td>\n",
       "      <td>223.392140</td>\n",
       "      <td>110.642211</td>\n",
       "      <td>34.539844</td>\n",
       "      <td>1191.000837</td>\n",
       "    </tr>\n",
       "  </tbody>\n",
       "</table>\n",
       "</div>"
      ],
      "text/plain": [
       "       MeanIntegratedProfile  StdIntegratedProfile  \\\n",
       "count           17898.000000          17898.000000   \n",
       "mean              111.079968             46.549532   \n",
       "std                25.652935              6.843189   \n",
       "min                 5.812500             24.772042   \n",
       "25%               100.929688             42.376018   \n",
       "50%               115.078125             46.947479   \n",
       "75%               127.085938             51.023202   \n",
       "max               192.617188             98.778911   \n",
       "\n",
       "       ExcessKurtosisIntegratedProfile  SkewnessIntegratedProfile  \\\n",
       "count                     17898.000000               17898.000000   \n",
       "mean                          0.477857                   1.770279   \n",
       "std                           1.064040                   6.167913   \n",
       "min                          -1.876011                  -1.791886   \n",
       "25%                           0.027098                  -0.188572   \n",
       "50%                           0.223240                   0.198710   \n",
       "75%                           0.473325                   0.927783   \n",
       "max                           8.069522                  68.101622   \n",
       "\n",
       "       MeanDMSNRCurve  StdDMSNRCurve  ExcessKurtosisDMSNRCurve  \\\n",
       "count    17898.000000   17898.000000              17898.000000   \n",
       "mean        12.614400      26.326515                  8.303556   \n",
       "std         29.472897      19.470572                  4.506092   \n",
       "min          0.213211       7.370432                 -3.139270   \n",
       "25%          1.923077      14.437332                  5.781506   \n",
       "50%          2.801839      18.461316                  8.433515   \n",
       "75%          5.464256      28.428104                 10.702959   \n",
       "max        223.392140     110.642211                 34.539844   \n",
       "\n",
       "       SkewnessDMSNRCurve  \n",
       "count        17898.000000  \n",
       "mean           104.857709  \n",
       "std            106.514540  \n",
       "min             -1.976976  \n",
       "25%             34.960504  \n",
       "50%             83.064556  \n",
       "75%            139.309331  \n",
       "max           1191.000837  "
      ]
     },
     "execution_count": 116,
     "metadata": {},
     "output_type": "execute_result"
    }
   ],
   "source": [
    "x.describe()"
   ]
  },
  {
   "cell_type": "markdown",
   "metadata": {},
   "source": [
    "Como podemos observar, existen variables que varian en un rango mayor de valores que otras. Para realizar una mejor comparacion entre las variables es importante estandarizar las variables con una media de cero y una desviación estándar de 1."
   ]
  },
  {
   "cell_type": "code",
   "execution_count": 117,
   "metadata": {},
   "outputs": [],
   "source": [
    "normalized_x = scale(x)"
   ]
  },
  {
   "cell_type": "markdown",
   "metadata": {},
   "source": [
    "Procederemos a separar el conjunto de datos en dos: entrenamiento y pruebas. El conjunto de pruebas estara compuesto por el 10% de la informacion."
   ]
  },
  {
   "cell_type": "code",
   "execution_count": 118,
   "metadata": {},
   "outputs": [],
   "source": [
    "x_train, x_test, y_train, y_test = train_test_split(normalized_x, y, test_size = 0.1, random_state = 0)"
   ]
  },
  {
   "cell_type": "code",
   "execution_count": null,
   "metadata": {},
   "outputs": [],
   "source": []
  },
  {
   "cell_type": "code",
   "execution_count": null,
   "metadata": {},
   "outputs": [],
   "source": []
  },
  {
   "cell_type": "markdown",
   "metadata": {},
   "source": [
    "Entrenamos un arbol de decision"
   ]
  },
  {
   "cell_type": "code",
   "execution_count": 119,
   "metadata": {},
   "outputs": [],
   "source": [
    "decission_tree_model = DecisionTreeClassifier(max_depth = 3)\n",
    "decission_tree_model.fit(x_train, y_train)\n",
    "\n",
    "decission_tree_model_train_prediction = decissionTreeModel.predict(x_train)\n",
    "decission_tree_model_test_prediction = decissionTreeModel.predict(x_test)"
   ]
  },
  {
   "cell_type": "markdown",
   "metadata": {},
   "source": [
    "Entrenamos un bosque aleatorio"
   ]
  },
  {
   "cell_type": "code",
   "execution_count": 120,
   "metadata": {},
   "outputs": [],
   "source": [
    "random_forest_model = RandomForestClassifier(n_estimators = 100,\n",
    "                                             max_depth = 3,\n",
    "                                             criterion = 'gini')\n",
    "random_forest_model.fit(x_train, y_train)\n",
    "\n",
    "random_forest_model_train_prediction = random_forest_model.predict(x_train)\n",
    "random_forest_model_test_prediction = random_forest_model.predict(x_test)"
   ]
  },
  {
   "cell_type": "markdown",
   "metadata": {},
   "source": [
    "Entrenamos una regresion logistica"
   ]
  },
  {
   "cell_type": "code",
   "execution_count": 121,
   "metadata": {},
   "outputs": [],
   "source": [
    "logistic_regression_model = LogisticRegression(solver = 'liblinear')\n",
    "logistic_regression_model.fit(x_train, y_train)\n",
    "\n",
    "logistic_regression_model_train_prediction = logistic_regression_model.predict(x_train)\n",
    "logistic_regression_model_test_prediction = logistic_regression_model.predict(x_test)"
   ]
  },
  {
   "cell_type": "code",
   "execution_count": null,
   "metadata": {},
   "outputs": [],
   "source": []
  },
  {
   "cell_type": "code",
   "execution_count": 122,
   "metadata": {},
   "outputs": [
    {
     "name": "stdout",
     "output_type": "stream",
     "text": [
      "Resultados:\n",
      "-------------------------------------------\n",
      "\n",
      "- Arbol de decision\n",
      "\tScore f1 en entrenamiento: 1.0000\n",
      "\tScore f1 en pruebas: 0.8286\n",
      "- Bosque aleatorio\n",
      "\tScore f1 en entrenamiento: 0.8662\n",
      "\tScore f1 en pruebas: 0.8661\n",
      "- Regresion logistica\n",
      "\tScore f1 en entrenamiento: 0.8766\n",
      "\tScore f1 en pruebas: 0.8889\n"
     ]
    }
   ],
   "source": [
    "print('Resultados:')\n",
    "print('-------------------------------------------\\n')\n",
    "print('- Arbol de decision')\n",
    "print('\\tScore f1 en entrenamiento: %.4f' % f1_score(y_train, decission_tree_model_train_prediction, average = 'binary'))\n",
    "print('\\tScore f1 en pruebas: %.4f' % f1_score(y_test, decission_tree_model_test_prediction, average = 'binary'))\n",
    "print('- Bosque aleatorio')\n",
    "print('\\tScore f1 en entrenamiento: %.4f' % f1_score(y_train, random_forest_model_train_prediction, average = 'binary'))\n",
    "print('\\tScore f1 en pruebas: %.4f' % f1_score(y_test, random_forest_model_test_prediction, average = 'binary'))\n",
    "print('- Regresion logistica')\n",
    "print('\\tScore f1 en entrenamiento: %.4f' % f1_score(y_train, logistic_regression_model_train_prediction, average = 'binary'))\n",
    "print('\\tScore f1 en pruebas: %.4f' % f1_score(y_test, logistic_regression_model_test_prediction, average = 'binary'))"
   ]
  },
  {
   "cell_type": "code",
   "execution_count": null,
   "metadata": {},
   "outputs": [],
   "source": []
  },
  {
   "cell_type": "code",
   "execution_count": null,
   "metadata": {},
   "outputs": [],
   "source": []
  },
  {
   "cell_type": "code",
   "execution_count": null,
   "metadata": {},
   "outputs": [],
   "source": []
  },
  {
   "cell_type": "code",
   "execution_count": null,
   "metadata": {},
   "outputs": [],
   "source": []
  },
  {
   "cell_type": "code",
   "execution_count": null,
   "metadata": {},
   "outputs": [],
   "source": []
  },
  {
   "cell_type": "code",
   "execution_count": null,
   "metadata": {},
   "outputs": [],
   "source": []
  }
 ],
 "metadata": {
  "kernelspec": {
   "display_name": "Python 3",
   "language": "python",
   "name": "python3"
  },
  "language_info": {
   "codemirror_mode": {
    "name": "ipython",
    "version": 3
   },
   "file_extension": ".py",
   "mimetype": "text/x-python",
   "name": "python",
   "nbconvert_exporter": "python",
   "pygments_lexer": "ipython3",
   "version": "3.7.1"
  }
 },
 "nbformat": 4,
 "nbformat_minor": 2
}
