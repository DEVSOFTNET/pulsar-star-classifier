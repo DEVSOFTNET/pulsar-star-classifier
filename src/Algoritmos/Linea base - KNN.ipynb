{
 "cells": [
  {
   "cell_type": "markdown",
   "metadata": {},
   "source": [
    "Código tomado y adaptado.\n",
    "\n",
    "Título: Pulsar Candidates Classification\n",
    "\n",
    "Autor: Yixuan Zhou\n",
    "\n",
    "Fecha: 12/01/2018\n",
    "\n",
    "Fuente: https://github.com/yixuanzhou/Pulsar-Candidates-Calssification"
   ]
  },
  {
   "cell_type": "code",
   "execution_count": 1,
   "metadata": {},
   "outputs": [],
   "source": [
    "import pandas as pd\n",
    "import os\n",
    "from sklearn import model_selection, metrics\n",
    "from sklearn.neighbors import KNeighborsClassifier\n",
    "from sklearn.model_selection import train_test_split, cross_val_score, ShuffleSplit\n",
    "from sklearn.metrics import recall_score, precision_score, f1_score, roc_auc_score\n",
    "from sklearn.preprocessing import StandardScaler\n",
    "from sklearn.utils import shuffle\n",
    "import numpy as np"
   ]
  },
  {
   "cell_type": "code",
   "execution_count": 2,
   "metadata": {},
   "outputs": [],
   "source": [
    "def upsampling(X, y, ratio = 1.0, random_state = 123):\n",
    "    pos_num = sum(y)\n",
    "    target_num = int(0.5 + ratio * (len(y) - pos_num))\n",
    "    \n",
    "    if not pos_num < target_num:\n",
    "        return X, y\n",
    "    \n",
    "    X_pos = X[np.where(y == 1)[0]]\n",
    "    X_pos = np.concatenate([X_pos for _ in range(target_num // pos_num[0])] + [X_pos[:target_num % pos_num[0]]])\n",
    "    X_neg = X[np.where(y == 0)[0]]\n",
    "    X, y = np.concatenate([X_pos, X_neg]), np.array([1] * len(X_pos) + [0] * len(X_neg))\n",
    "    \n",
    "    return shuffle(X, y, random_state = random_state)"
   ]
  },
  {
   "cell_type": "code",
   "execution_count": 3,
   "metadata": {},
   "outputs": [],
   "source": [
    "def test_score(model, X, y):\n",
    "\n",
    "    y_pred = model.predict(X)\n",
    "    recall = recall_score(y, y_pred)\n",
    "    prec = precision_score(y, y_pred)\n",
    "    roc_auc = roc_auc_score(y, y_pred)\n",
    "    f1 = f1_score(y, y_pred)\n",
    "\n",
    "    return recall, prec, roc_auc, f1"
   ]
  },
  {
   "cell_type": "code",
   "execution_count": 4,
   "metadata": {},
   "outputs": [],
   "source": [
    "# Load data set\n",
    "df = pd.read_csv(\"../HTRU_2.csv\", header = None)\n",
    "X = df.iloc[:,:-1]\n",
    "y = df.iloc[:,-1:].values\n",
    "\n",
    "# Normalization\n",
    "normalizer = StandardScaler()\n",
    "X_train, X_test, y_train, y_test = train_test_split(X, y, test_size = 0.3, stratify = y, random_state = 42)\n",
    "X_train = normalizer.fit_transform(X_train)\n",
    "X_test = normalizer.transform(X_test)\n",
    "X_train, y_train = upsampling(X_train, y_train, ratio = 1/5)\n",
    "\n",
    "# Train model with fine-tuned parameters\n",
    "knn = KNeighborsClassifier(n_neighbors = 5)\n",
    "clf_knn = knn.fit(X_train, y_train)\n",
    "\n",
    "# Cross validation\n",
    "cv = ShuffleSplit(n_splits = 5, test_size = 0.3, random_state = 95)\n",
    "res = {}\n",
    "\n",
    "for scoring in ('f1', 'roc_auc', 'precision', 'recall'):\n",
    "    res[scoring] = cross_val_score(clf_knn, X_test, y_test, cv = cv, scoring = scoring, n_jobs = -1)"
   ]
  },
  {
   "cell_type": "code",
   "execution_count": 5,
   "metadata": {},
   "outputs": [
    {
     "name": "stdout",
     "output_type": "stream",
     "text": [
      "Línea base - KNN\n",
      "\t-Mejores hiper-parámetros: {k: 5)\n",
      "\t-Puntaje f1 en entrenamiento: 0.9253\n",
      "\t-Puntaje f1 en pruebas: 0.8787\n"
     ]
    }
   ],
   "source": [
    "print('Línea base - KNN')\n",
    "print('\\t-Mejores hiper-parámetros: {''k'': ''5'')')\n",
    "print('\\t-Puntaje f1 en entrenamiento: %.4f' % test_score(clf_knn, X_train, y_train)[3])\n",
    "print('\\t-Puntaje f1 en pruebas: %.4f' % test_score(clf_knn, X_test, y_test)[3])"
   ]
  }
 ],
 "metadata": {
  "kernelspec": {
   "display_name": "Python 3",
   "language": "python",
   "name": "python3"
  },
  "language_info": {
   "codemirror_mode": {
    "name": "ipython",
    "version": 3
   },
   "file_extension": ".py",
   "mimetype": "text/x-python",
   "name": "python",
   "nbconvert_exporter": "python",
   "pygments_lexer": "ipython3",
   "version": "3.7.3"
  }
 },
 "nbformat": 4,
 "nbformat_minor": 2
}
