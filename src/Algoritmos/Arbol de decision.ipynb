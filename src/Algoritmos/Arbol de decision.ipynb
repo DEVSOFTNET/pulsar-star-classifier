{
 "cells": [
  {
   "cell_type": "code",
   "execution_count": 1,
   "metadata": {},
   "outputs": [],
   "source": [
    "import numpy as np\n",
    "import pandas as pd\n",
    "from matplotlib import pyplot as plt\n",
    "\n",
    "from sklearn.preprocessing import StandardScaler\n",
    "from imblearn.over_sampling import SMOTE\n",
    "from sklearn.model_selection import train_test_split\n",
    "from sklearn.metrics import f1_score\n",
    "from sklearn.model_selection import cross_val_score\n",
    "from sklearn.model_selection import GridSearchCV\n",
    "\n",
    "from sklearn.tree import DecisionTreeClassifier"
   ]
  },
  {
   "cell_type": "markdown",
   "metadata": {},
   "source": [
    "Etiquetamos los nombres de las características en el dataset."
   ]
  },
  {
   "cell_type": "code",
   "execution_count": 2,
   "metadata": {},
   "outputs": [],
   "source": [
    "featuresNames = ['MeanIntegratedProfile',\n",
    "                'StdIntegratedProfile',\n",
    "                'ExcessKurtosisIntegratedProfile',\n",
    "                'SkewnessIntegratedProfile',\n",
    "                'MeanDMSNRCurve',\n",
    "                'StdDMSNRCurve',\n",
    "                'ExcessKurtosisDMSNRCurve',\n",
    "                'SkewnessDMSNRCurve',\n",
    "                'Class']"
   ]
  },
  {
   "cell_type": "markdown",
   "metadata": {},
   "source": [
    "Cargamos la informacion del dataset HTRU2."
   ]
  },
  {
   "cell_type": "code",
   "execution_count": 3,
   "metadata": {},
   "outputs": [],
   "source": [
    "data = pd.read_csv('../HTRU_2.csv',\n",
    "                   header = None, \n",
    "                   names = featuresNames)"
   ]
  },
  {
   "cell_type": "markdown",
   "metadata": {},
   "source": [
    "Separamos la variable categórica del dataset."
   ]
  },
  {
   "cell_type": "code",
   "execution_count": 4,
   "metadata": {},
   "outputs": [],
   "source": [
    "x = data.drop('Class', axis = 1, inplace = False)\n",
    "y = data['Class']"
   ]
  },
  {
   "cell_type": "markdown",
   "metadata": {},
   "source": [
    "Se divide el dataset en dos conjuntos de datos: entrenamiento y pruebas. El conjunto de entrenamiento estará compuesto por el 90% del dataset y pruebas del 10%.\n",
    "\n",
    "El dataset HTRU2 es un conjunto de datos desbalanceado, por cada púlsar identificado, diez no lo son. Para que esta misma proporción se refleje en los conjuntos de entrenamiento y pruebas se realizará una división estratificada."
   ]
  },
  {
   "cell_type": "code",
   "execution_count": 5,
   "metadata": {},
   "outputs": [
    {
     "data": {
      "text/plain": [
       "0    16259\n",
       "1     1639\n",
       "Name: Class, dtype: int64"
      ]
     },
     "execution_count": 5,
     "metadata": {},
     "output_type": "execute_result"
    }
   ],
   "source": [
    "y.value_counts()"
   ]
  },
  {
   "cell_type": "code",
   "execution_count": 6,
   "metadata": {},
   "outputs": [],
   "source": [
    "x_train, x_test, y_train, y_test = train_test_split(x,\n",
    "                                                    y,\n",
    "                                                    test_size = 0.1,\n",
    "                                                    random_state = 0,\n",
    "                                                    stratify = y)"
   ]
  },
  {
   "cell_type": "markdown",
   "metadata": {},
   "source": [
    "Ahora ambos conjuntos de datos tienen la misma proporción con respecto a la variable categórica."
   ]
  },
  {
   "cell_type": "code",
   "execution_count": 7,
   "metadata": {},
   "outputs": [
    {
     "name": "stdout",
     "output_type": "stream",
     "text": [
      "0    14633\n",
      "1     1475\n",
      "Name: Class, dtype: int64\n",
      "0    1626\n",
      "1     164\n",
      "Name: Class, dtype: int64\n"
     ]
    }
   ],
   "source": [
    "print(y_train.value_counts())\n",
    "print(y_test.value_counts())"
   ]
  },
  {
   "cell_type": "markdown",
   "metadata": {},
   "source": [
    "Como mencionamos anteriormente, el dataset HTRU2 es conjunto de datos desbalanceado. Para balancear utilizaremos una técnica de oversampling llamada SMOTE, donde se genera nuevas instancias de la clase minoritaria interpolando los valores de las instancias minoritarias más cercanas a una dada. El nuevo ratio será de 1:5, esto quiere decir, que por cada púlsar, cinco no lo serán en el conjunto de entrenamiento."
   ]
  },
  {
   "cell_type": "code",
   "execution_count": 8,
   "metadata": {},
   "outputs": [],
   "source": [
    "smote = SMOTE(random_state = 0,\n",
    "             ratio = 0.2)\n",
    "x_train_smote, y_train_smote = smote.fit_sample(x_train, y_train.ravel())"
   ]
  },
  {
   "cell_type": "markdown",
   "metadata": {},
   "source": [
    "Ahora podemos observar que el conjunto de datos se encuentra balanceado."
   ]
  },
  {
   "cell_type": "code",
   "execution_count": 9,
   "metadata": {},
   "outputs": [
    {
     "data": {
      "text/plain": [
       "array([14633,  2926])"
      ]
     },
     "execution_count": 9,
     "metadata": {},
     "output_type": "execute_result"
    }
   ],
   "source": [
    "np.bincount(y_train_smote)"
   ]
  },
  {
   "cell_type": "markdown",
   "metadata": {},
   "source": [
    "Para encontrar los mejores hiper-parámetros que se ajusten al modelo utilizaremos la técnica de búsqueda en grilla. \n",
    "\n",
    "Para determinar los mejores valores de criterion, max_depth, min_samples_split y min_samples_leaf será necesario probar el modelo con diferentes valores.\n",
    "\n",
    "En cada iteración se realizará validación cruzada con k = 5.\n",
    "\n",
    "La métrica de evaluación será f1."
   ]
  },
  {
   "cell_type": "code",
   "execution_count": 10,
   "metadata": {},
   "outputs": [
    {
     "data": {
      "text/plain": [
       "GridSearchCV(cv=5, error_score='raise-deprecating',\n",
       "       estimator=DecisionTreeClassifier(class_weight=None, criterion='gini', max_depth=None,\n",
       "            max_features=None, max_leaf_nodes=None,\n",
       "            min_impurity_decrease=0.0, min_impurity_split=None,\n",
       "            min_samples_leaf=1, min_samples_split=2,\n",
       "            min_weight_fraction_leaf=0.0, presort=False, random_state=None,\n",
       "            splitter='best'),\n",
       "       fit_params=None, iid='warn', n_jobs=None,\n",
       "       param_grid={'criterion': ['gini', 'entropy'], 'max_depth': [1, 3, 5, 7], 'min_samples_split': [2, 5, 7, 9], 'min_samples_leaf': [1, 3, 5, 7]},\n",
       "       pre_dispatch='2*n_jobs', refit=True, return_train_score='warn',\n",
       "       scoring='f1', verbose=0)"
      ]
     },
     "execution_count": 10,
     "metadata": {},
     "output_type": "execute_result"
    }
   ],
   "source": [
    "param_grid = {  \n",
    "    'criterion': ['gini', 'entropy'],\n",
    "    'max_depth': [1, 3, 5, 7],\n",
    "    'min_samples_split': [2, 5, 7, 9],\n",
    "    'min_samples_leaf': [1, 3, 5, 7]\n",
    "}\n",
    "\n",
    "grid_search = GridSearchCV(estimator = DecisionTreeClassifier(),\n",
    "                           param_grid = param_grid,\n",
    "                           scoring = 'f1',\n",
    "                           cv = 5)\n",
    "\n",
    "grid_search.fit(x_train_smote, y_train_smote)"
   ]
  },
  {
   "cell_type": "code",
   "execution_count": 11,
   "metadata": {},
   "outputs": [
    {
     "name": "stdout",
     "output_type": "stream",
     "text": [
      "Tuneando los hiper-parámetros para f1\n",
      "\n",
      "Los mejores hiper-parámetros encontrados con validación cruzada:\n",
      "\n",
      "{'criterion': 'gini', 'max_depth': 7, 'min_samples_leaf': 5, 'min_samples_split': 9}\n",
      "\n",
      "Puntajes de la métrica f1 en el conjunto de validación:\n",
      "\n",
      "0.8897 (+/-0.0115) for {'criterion': 'gini', 'max_depth': 1, 'min_samples_leaf': 1, 'min_samples_split': 2}\n",
      "0.8897 (+/-0.0115) for {'criterion': 'gini', 'max_depth': 1, 'min_samples_leaf': 1, 'min_samples_split': 5}\n",
      "0.8897 (+/-0.0115) for {'criterion': 'gini', 'max_depth': 1, 'min_samples_leaf': 1, 'min_samples_split': 7}\n",
      "0.8897 (+/-0.0115) for {'criterion': 'gini', 'max_depth': 1, 'min_samples_leaf': 1, 'min_samples_split': 9}\n",
      "0.8897 (+/-0.0115) for {'criterion': 'gini', 'max_depth': 1, 'min_samples_leaf': 3, 'min_samples_split': 2}\n",
      "0.8897 (+/-0.0115) for {'criterion': 'gini', 'max_depth': 1, 'min_samples_leaf': 3, 'min_samples_split': 5}\n",
      "0.8897 (+/-0.0115) for {'criterion': 'gini', 'max_depth': 1, 'min_samples_leaf': 3, 'min_samples_split': 7}\n",
      "0.8897 (+/-0.0115) for {'criterion': 'gini', 'max_depth': 1, 'min_samples_leaf': 3, 'min_samples_split': 9}\n",
      "0.8897 (+/-0.0115) for {'criterion': 'gini', 'max_depth': 1, 'min_samples_leaf': 5, 'min_samples_split': 2}\n",
      "0.8897 (+/-0.0115) for {'criterion': 'gini', 'max_depth': 1, 'min_samples_leaf': 5, 'min_samples_split': 5}\n",
      "0.8897 (+/-0.0115) for {'criterion': 'gini', 'max_depth': 1, 'min_samples_leaf': 5, 'min_samples_split': 7}\n",
      "0.8897 (+/-0.0115) for {'criterion': 'gini', 'max_depth': 1, 'min_samples_leaf': 5, 'min_samples_split': 9}\n",
      "0.8897 (+/-0.0115) for {'criterion': 'gini', 'max_depth': 1, 'min_samples_leaf': 7, 'min_samples_split': 2}\n",
      "0.8897 (+/-0.0115) for {'criterion': 'gini', 'max_depth': 1, 'min_samples_leaf': 7, 'min_samples_split': 5}\n",
      "0.8897 (+/-0.0115) for {'criterion': 'gini', 'max_depth': 1, 'min_samples_leaf': 7, 'min_samples_split': 7}\n",
      "0.8897 (+/-0.0115) for {'criterion': 'gini', 'max_depth': 1, 'min_samples_leaf': 7, 'min_samples_split': 9}\n",
      "0.9036 (+/-0.0165) for {'criterion': 'gini', 'max_depth': 3, 'min_samples_leaf': 1, 'min_samples_split': 2}\n",
      "0.9036 (+/-0.0165) for {'criterion': 'gini', 'max_depth': 3, 'min_samples_leaf': 1, 'min_samples_split': 5}\n",
      "0.9036 (+/-0.0165) for {'criterion': 'gini', 'max_depth': 3, 'min_samples_leaf': 1, 'min_samples_split': 7}\n",
      "0.9036 (+/-0.0165) for {'criterion': 'gini', 'max_depth': 3, 'min_samples_leaf': 1, 'min_samples_split': 9}\n",
      "0.9036 (+/-0.0165) for {'criterion': 'gini', 'max_depth': 3, 'min_samples_leaf': 3, 'min_samples_split': 2}\n",
      "0.9036 (+/-0.0165) for {'criterion': 'gini', 'max_depth': 3, 'min_samples_leaf': 3, 'min_samples_split': 5}\n",
      "0.9036 (+/-0.0165) for {'criterion': 'gini', 'max_depth': 3, 'min_samples_leaf': 3, 'min_samples_split': 7}\n",
      "0.9036 (+/-0.0165) for {'criterion': 'gini', 'max_depth': 3, 'min_samples_leaf': 3, 'min_samples_split': 9}\n",
      "0.9034 (+/-0.0163) for {'criterion': 'gini', 'max_depth': 3, 'min_samples_leaf': 5, 'min_samples_split': 2}\n",
      "0.9034 (+/-0.0163) for {'criterion': 'gini', 'max_depth': 3, 'min_samples_leaf': 5, 'min_samples_split': 5}\n",
      "0.9034 (+/-0.0163) for {'criterion': 'gini', 'max_depth': 3, 'min_samples_leaf': 5, 'min_samples_split': 7}\n",
      "0.9034 (+/-0.0163) for {'criterion': 'gini', 'max_depth': 3, 'min_samples_leaf': 5, 'min_samples_split': 9}\n",
      "0.9033 (+/-0.0159) for {'criterion': 'gini', 'max_depth': 3, 'min_samples_leaf': 7, 'min_samples_split': 2}\n",
      "0.9033 (+/-0.0159) for {'criterion': 'gini', 'max_depth': 3, 'min_samples_leaf': 7, 'min_samples_split': 5}\n",
      "0.9033 (+/-0.0159) for {'criterion': 'gini', 'max_depth': 3, 'min_samples_leaf': 7, 'min_samples_split': 7}\n",
      "0.9033 (+/-0.0159) for {'criterion': 'gini', 'max_depth': 3, 'min_samples_leaf': 7, 'min_samples_split': 9}\n",
      "0.9076 (+/-0.0166) for {'criterion': 'gini', 'max_depth': 5, 'min_samples_leaf': 1, 'min_samples_split': 2}\n",
      "0.9077 (+/-0.0167) for {'criterion': 'gini', 'max_depth': 5, 'min_samples_leaf': 1, 'min_samples_split': 5}\n",
      "0.9075 (+/-0.0165) for {'criterion': 'gini', 'max_depth': 5, 'min_samples_leaf': 1, 'min_samples_split': 7}\n",
      "0.9075 (+/-0.0165) for {'criterion': 'gini', 'max_depth': 5, 'min_samples_leaf': 1, 'min_samples_split': 9}\n",
      "0.9080 (+/-0.0159) for {'criterion': 'gini', 'max_depth': 5, 'min_samples_leaf': 3, 'min_samples_split': 2}\n",
      "0.9080 (+/-0.0159) for {'criterion': 'gini', 'max_depth': 5, 'min_samples_leaf': 3, 'min_samples_split': 5}\n",
      "0.9081 (+/-0.0162) for {'criterion': 'gini', 'max_depth': 5, 'min_samples_leaf': 3, 'min_samples_split': 7}\n",
      "0.9081 (+/-0.0162) for {'criterion': 'gini', 'max_depth': 5, 'min_samples_leaf': 3, 'min_samples_split': 9}\n",
      "0.9065 (+/-0.0209) for {'criterion': 'gini', 'max_depth': 5, 'min_samples_leaf': 5, 'min_samples_split': 2}\n",
      "0.9065 (+/-0.0209) for {'criterion': 'gini', 'max_depth': 5, 'min_samples_leaf': 5, 'min_samples_split': 5}\n",
      "0.9065 (+/-0.0209) for {'criterion': 'gini', 'max_depth': 5, 'min_samples_leaf': 5, 'min_samples_split': 7}\n",
      "0.9065 (+/-0.0209) for {'criterion': 'gini', 'max_depth': 5, 'min_samples_leaf': 5, 'min_samples_split': 9}\n",
      "0.9054 (+/-0.0181) for {'criterion': 'gini', 'max_depth': 5, 'min_samples_leaf': 7, 'min_samples_split': 2}\n",
      "0.9054 (+/-0.0181) for {'criterion': 'gini', 'max_depth': 5, 'min_samples_leaf': 7, 'min_samples_split': 5}\n",
      "0.9057 (+/-0.0187) for {'criterion': 'gini', 'max_depth': 5, 'min_samples_leaf': 7, 'min_samples_split': 7}\n",
      "0.9057 (+/-0.0187) for {'criterion': 'gini', 'max_depth': 5, 'min_samples_leaf': 7, 'min_samples_split': 9}\n",
      "0.9074 (+/-0.0145) for {'criterion': 'gini', 'max_depth': 7, 'min_samples_leaf': 1, 'min_samples_split': 2}\n",
      "0.9067 (+/-0.0127) for {'criterion': 'gini', 'max_depth': 7, 'min_samples_leaf': 1, 'min_samples_split': 5}\n",
      "0.9073 (+/-0.0127) for {'criterion': 'gini', 'max_depth': 7, 'min_samples_leaf': 1, 'min_samples_split': 7}\n",
      "0.9074 (+/-0.0135) for {'criterion': 'gini', 'max_depth': 7, 'min_samples_leaf': 1, 'min_samples_split': 9}\n",
      "0.9085 (+/-0.0124) for {'criterion': 'gini', 'max_depth': 7, 'min_samples_leaf': 3, 'min_samples_split': 2}\n",
      "0.9079 (+/-0.0146) for {'criterion': 'gini', 'max_depth': 7, 'min_samples_leaf': 3, 'min_samples_split': 5}\n",
      "0.9078 (+/-0.0135) for {'criterion': 'gini', 'max_depth': 7, 'min_samples_leaf': 3, 'min_samples_split': 7}\n",
      "0.9082 (+/-0.0143) for {'criterion': 'gini', 'max_depth': 7, 'min_samples_leaf': 3, 'min_samples_split': 9}\n",
      "0.9102 (+/-0.0144) for {'criterion': 'gini', 'max_depth': 7, 'min_samples_leaf': 5, 'min_samples_split': 2}\n",
      "0.9101 (+/-0.0139) for {'criterion': 'gini', 'max_depth': 7, 'min_samples_leaf': 5, 'min_samples_split': 5}\n",
      "0.9099 (+/-0.0134) for {'criterion': 'gini', 'max_depth': 7, 'min_samples_leaf': 5, 'min_samples_split': 7}\n",
      "0.9103 (+/-0.0141) for {'criterion': 'gini', 'max_depth': 7, 'min_samples_leaf': 5, 'min_samples_split': 9}\n",
      "0.9088 (+/-0.0114) for {'criterion': 'gini', 'max_depth': 7, 'min_samples_leaf': 7, 'min_samples_split': 2}\n",
      "0.9091 (+/-0.0125) for {'criterion': 'gini', 'max_depth': 7, 'min_samples_leaf': 7, 'min_samples_split': 5}\n",
      "0.9089 (+/-0.0124) for {'criterion': 'gini', 'max_depth': 7, 'min_samples_leaf': 7, 'min_samples_split': 7}\n",
      "0.9085 (+/-0.0110) for {'criterion': 'gini', 'max_depth': 7, 'min_samples_leaf': 7, 'min_samples_split': 9}\n",
      "0.8889 (+/-0.0182) for {'criterion': 'entropy', 'max_depth': 1, 'min_samples_leaf': 1, 'min_samples_split': 2}\n",
      "0.8889 (+/-0.0182) for {'criterion': 'entropy', 'max_depth': 1, 'min_samples_leaf': 1, 'min_samples_split': 5}\n",
      "0.8889 (+/-0.0182) for {'criterion': 'entropy', 'max_depth': 1, 'min_samples_leaf': 1, 'min_samples_split': 7}\n",
      "0.8889 (+/-0.0182) for {'criterion': 'entropy', 'max_depth': 1, 'min_samples_leaf': 1, 'min_samples_split': 9}\n",
      "0.8889 (+/-0.0182) for {'criterion': 'entropy', 'max_depth': 1, 'min_samples_leaf': 3, 'min_samples_split': 2}\n",
      "0.8889 (+/-0.0182) for {'criterion': 'entropy', 'max_depth': 1, 'min_samples_leaf': 3, 'min_samples_split': 5}\n",
      "0.8889 (+/-0.0182) for {'criterion': 'entropy', 'max_depth': 1, 'min_samples_leaf': 3, 'min_samples_split': 7}\n",
      "0.8889 (+/-0.0182) for {'criterion': 'entropy', 'max_depth': 1, 'min_samples_leaf': 3, 'min_samples_split': 9}\n",
      "0.8889 (+/-0.0182) for {'criterion': 'entropy', 'max_depth': 1, 'min_samples_leaf': 5, 'min_samples_split': 2}\n",
      "0.8889 (+/-0.0182) for {'criterion': 'entropy', 'max_depth': 1, 'min_samples_leaf': 5, 'min_samples_split': 5}\n",
      "0.8889 (+/-0.0182) for {'criterion': 'entropy', 'max_depth': 1, 'min_samples_leaf': 5, 'min_samples_split': 7}\n",
      "0.8889 (+/-0.0182) for {'criterion': 'entropy', 'max_depth': 1, 'min_samples_leaf': 5, 'min_samples_split': 9}\n",
      "0.8889 (+/-0.0182) for {'criterion': 'entropy', 'max_depth': 1, 'min_samples_leaf': 7, 'min_samples_split': 2}\n",
      "0.8889 (+/-0.0182) for {'criterion': 'entropy', 'max_depth': 1, 'min_samples_leaf': 7, 'min_samples_split': 5}\n",
      "0.8889 (+/-0.0182) for {'criterion': 'entropy', 'max_depth': 1, 'min_samples_leaf': 7, 'min_samples_split': 7}\n",
      "0.8889 (+/-0.0182) for {'criterion': 'entropy', 'max_depth': 1, 'min_samples_leaf': 7, 'min_samples_split': 9}\n",
      "0.8948 (+/-0.0159) for {'criterion': 'entropy', 'max_depth': 3, 'min_samples_leaf': 1, 'min_samples_split': 2}\n",
      "0.8948 (+/-0.0159) for {'criterion': 'entropy', 'max_depth': 3, 'min_samples_leaf': 1, 'min_samples_split': 5}\n",
      "0.8948 (+/-0.0159) for {'criterion': 'entropy', 'max_depth': 3, 'min_samples_leaf': 1, 'min_samples_split': 7}\n",
      "0.8948 (+/-0.0159) for {'criterion': 'entropy', 'max_depth': 3, 'min_samples_leaf': 1, 'min_samples_split': 9}\n",
      "0.8948 (+/-0.0159) for {'criterion': 'entropy', 'max_depth': 3, 'min_samples_leaf': 3, 'min_samples_split': 2}\n",
      "0.8948 (+/-0.0159) for {'criterion': 'entropy', 'max_depth': 3, 'min_samples_leaf': 3, 'min_samples_split': 5}\n",
      "0.8948 (+/-0.0159) for {'criterion': 'entropy', 'max_depth': 3, 'min_samples_leaf': 3, 'min_samples_split': 7}\n",
      "0.8948 (+/-0.0159) for {'criterion': 'entropy', 'max_depth': 3, 'min_samples_leaf': 3, 'min_samples_split': 9}\n",
      "0.8948 (+/-0.0159) for {'criterion': 'entropy', 'max_depth': 3, 'min_samples_leaf': 5, 'min_samples_split': 2}\n",
      "0.8948 (+/-0.0159) for {'criterion': 'entropy', 'max_depth': 3, 'min_samples_leaf': 5, 'min_samples_split': 5}\n",
      "0.8948 (+/-0.0159) for {'criterion': 'entropy', 'max_depth': 3, 'min_samples_leaf': 5, 'min_samples_split': 7}\n",
      "0.8948 (+/-0.0159) for {'criterion': 'entropy', 'max_depth': 3, 'min_samples_leaf': 5, 'min_samples_split': 9}\n",
      "0.8948 (+/-0.0159) for {'criterion': 'entropy', 'max_depth': 3, 'min_samples_leaf': 7, 'min_samples_split': 2}\n",
      "0.8948 (+/-0.0159) for {'criterion': 'entropy', 'max_depth': 3, 'min_samples_leaf': 7, 'min_samples_split': 5}\n",
      "0.8948 (+/-0.0159) for {'criterion': 'entropy', 'max_depth': 3, 'min_samples_leaf': 7, 'min_samples_split': 7}\n",
      "0.8948 (+/-0.0159) for {'criterion': 'entropy', 'max_depth': 3, 'min_samples_leaf': 7, 'min_samples_split': 9}\n",
      "0.9090 (+/-0.0202) for {'criterion': 'entropy', 'max_depth': 5, 'min_samples_leaf': 1, 'min_samples_split': 2}\n",
      "0.9089 (+/-0.0199) for {'criterion': 'entropy', 'max_depth': 5, 'min_samples_leaf': 1, 'min_samples_split': 5}\n",
      "0.9089 (+/-0.0199) for {'criterion': 'entropy', 'max_depth': 5, 'min_samples_leaf': 1, 'min_samples_split': 7}\n",
      "0.9090 (+/-0.0202) for {'criterion': 'entropy', 'max_depth': 5, 'min_samples_leaf': 1, 'min_samples_split': 9}\n",
      "0.9096 (+/-0.0204) for {'criterion': 'entropy', 'max_depth': 5, 'min_samples_leaf': 3, 'min_samples_split': 2}\n",
      "0.9096 (+/-0.0204) for {'criterion': 'entropy', 'max_depth': 5, 'min_samples_leaf': 3, 'min_samples_split': 5}\n",
      "0.9095 (+/-0.0202) for {'criterion': 'entropy', 'max_depth': 5, 'min_samples_leaf': 3, 'min_samples_split': 7}\n",
      "0.9094 (+/-0.0201) for {'criterion': 'entropy', 'max_depth': 5, 'min_samples_leaf': 3, 'min_samples_split': 9}\n",
      "0.9095 (+/-0.0203) for {'criterion': 'entropy', 'max_depth': 5, 'min_samples_leaf': 5, 'min_samples_split': 2}\n",
      "0.9096 (+/-0.0203) for {'criterion': 'entropy', 'max_depth': 5, 'min_samples_leaf': 5, 'min_samples_split': 5}\n",
      "0.9094 (+/-0.0200) for {'criterion': 'entropy', 'max_depth': 5, 'min_samples_leaf': 5, 'min_samples_split': 7}\n",
      "0.9094 (+/-0.0200) for {'criterion': 'entropy', 'max_depth': 5, 'min_samples_leaf': 5, 'min_samples_split': 9}\n",
      "0.9070 (+/-0.0236) for {'criterion': 'entropy', 'max_depth': 5, 'min_samples_leaf': 7, 'min_samples_split': 2}\n",
      "0.9068 (+/-0.0236) for {'criterion': 'entropy', 'max_depth': 5, 'min_samples_leaf': 7, 'min_samples_split': 5}\n",
      "0.9068 (+/-0.0236) for {'criterion': 'entropy', 'max_depth': 5, 'min_samples_leaf': 7, 'min_samples_split': 7}\n",
      "0.9068 (+/-0.0236) for {'criterion': 'entropy', 'max_depth': 5, 'min_samples_leaf': 7, 'min_samples_split': 9}\n",
      "0.9048 (+/-0.0195) for {'criterion': 'entropy', 'max_depth': 7, 'min_samples_leaf': 1, 'min_samples_split': 2}\n",
      "0.9049 (+/-0.0213) for {'criterion': 'entropy', 'max_depth': 7, 'min_samples_leaf': 1, 'min_samples_split': 5}\n",
      "0.9052 (+/-0.0201) for {'criterion': 'entropy', 'max_depth': 7, 'min_samples_leaf': 1, 'min_samples_split': 7}\n",
      "0.9058 (+/-0.0195) for {'criterion': 'entropy', 'max_depth': 7, 'min_samples_leaf': 1, 'min_samples_split': 9}\n",
      "0.9045 (+/-0.0196) for {'criterion': 'entropy', 'max_depth': 7, 'min_samples_leaf': 3, 'min_samples_split': 2}\n",
      "0.9055 (+/-0.0181) for {'criterion': 'entropy', 'max_depth': 7, 'min_samples_leaf': 3, 'min_samples_split': 5}\n",
      "0.9053 (+/-0.0191) for {'criterion': 'entropy', 'max_depth': 7, 'min_samples_leaf': 3, 'min_samples_split': 7}\n",
      "0.9052 (+/-0.0199) for {'criterion': 'entropy', 'max_depth': 7, 'min_samples_leaf': 3, 'min_samples_split': 9}\n",
      "0.9068 (+/-0.0189) for {'criterion': 'entropy', 'max_depth': 7, 'min_samples_leaf': 5, 'min_samples_split': 2}\n",
      "0.9070 (+/-0.0186) for {'criterion': 'entropy', 'max_depth': 7, 'min_samples_leaf': 5, 'min_samples_split': 5}\n",
      "0.9065 (+/-0.0188) for {'criterion': 'entropy', 'max_depth': 7, 'min_samples_leaf': 5, 'min_samples_split': 7}\n",
      "0.9065 (+/-0.0189) for {'criterion': 'entropy', 'max_depth': 7, 'min_samples_leaf': 5, 'min_samples_split': 9}\n",
      "0.9052 (+/-0.0148) for {'criterion': 'entropy', 'max_depth': 7, 'min_samples_leaf': 7, 'min_samples_split': 2}\n",
      "0.9049 (+/-0.0156) for {'criterion': 'entropy', 'max_depth': 7, 'min_samples_leaf': 7, 'min_samples_split': 5}\n",
      "0.9044 (+/-0.0168) for {'criterion': 'entropy', 'max_depth': 7, 'min_samples_leaf': 7, 'min_samples_split': 7}\n",
      "0.9049 (+/-0.0147) for {'criterion': 'entropy', 'max_depth': 7, 'min_samples_leaf': 7, 'min_samples_split': 9}\n"
     ]
    }
   ],
   "source": [
    "print('Tuneando los hiper-parámetros para f1')\n",
    "print()\n",
    "\n",
    "print('Los mejores hiper-parámetros encontrados con validación cruzada:')\n",
    "print()\n",
    "print(grid_search.best_params_)\n",
    "print()\n",
    "print('Puntajes de la métrica f1 en el conjunto de validación:')\n",
    "print()\n",
    "means = grid_search.cv_results_['mean_test_score']\n",
    "stds = grid_search.cv_results_['std_test_score']\n",
    "for mean, std, params in zip(means, stds, grid_search.cv_results_['params']):\n",
    "    print('%0.4f (+/-%0.04f) for %r'\n",
    "          % (mean, std * 2, params))"
   ]
  },
  {
   "cell_type": "markdown",
   "metadata": {},
   "source": [
    "La búsqueda en grilla nos devuelve el modelo con los mejores hiper-parámetros.\n",
    "\n",
    "Finalmente, vamos a predecir los resultados del modelo con los conjuntos de datos de entrenamiento y pruebas."
   ]
  },
  {
   "cell_type": "code",
   "execution_count": 12,
   "metadata": {},
   "outputs": [],
   "source": [
    "decision_tree_model = grid_search\n",
    "\n",
    "decision_tree_model_train_prediction = decision_tree_model.predict(x_train_smote)\n",
    "decision_tree_model_test_prediction = decision_tree_model.predict(x_test)"
   ]
  },
  {
   "cell_type": "code",
   "execution_count": 14,
   "metadata": {},
   "outputs": [
    {
     "name": "stdout",
     "output_type": "stream",
     "text": [
      "Árbol de decisión\n",
      "\t-Mejores hiper-parámetros: {'criterion': 'gini', 'max_depth': 7, 'min_samples_leaf': 5, 'min_samples_split': 9}\n",
      "\t-Puntaje f1 en entrenamiento: 0.9286\n",
      "\t-Puntaje f1 en pruebas: 0.8862\n"
     ]
    }
   ],
   "source": [
    "print('Árbol de decisión')\n",
    "print('\\t-Mejores hiper-parámetros: ' + str(decision_tree_model.best_params_))\n",
    "print('\\t-Puntaje f1 en entrenamiento: %.4f' % f1_score(y_train_smote, decision_tree_model_train_prediction, average = 'binary'))\n",
    "print('\\t-Puntaje f1 en pruebas: %.4f' % f1_score(y_test, decision_tree_model_test_prediction, average = 'binary'))"
   ]
  }
 ],
 "metadata": {
  "kernelspec": {
   "display_name": "Python 3",
   "language": "python",
   "name": "python3"
  },
  "language_info": {
   "codemirror_mode": {
    "name": "ipython",
    "version": 3
   },
   "file_extension": ".py",
   "mimetype": "text/x-python",
   "name": "python",
   "nbconvert_exporter": "python",
   "pygments_lexer": "ipython3",
   "version": "3.7.3"
  }
 },
 "nbformat": 4,
 "nbformat_minor": 2
}
