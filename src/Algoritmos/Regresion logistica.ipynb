{
 "cells": [
  {
   "cell_type": "code",
   "execution_count": 1,
   "metadata": {},
   "outputs": [
    {
     "name": "stderr",
     "output_type": "stream",
     "text": [
      "/home/florian/IA/envs/lib/python3.6/site-packages/sklearn/externals/six.py:31: DeprecationWarning: The module is deprecated in version 0.21 and will be removed in version 0.23 since we've dropped support for Python 2.7. Please rely on the official version of six (https://pypi.org/project/six/).\n",
      "  \"(https://pypi.org/project/six/).\", DeprecationWarning)\n",
      "/home/florian/IA/envs/lib/python3.6/site-packages/sklearn/externals/joblib/__init__.py:15: DeprecationWarning: sklearn.externals.joblib is deprecated in 0.21 and will be removed in 0.23. Please import this functionality directly from joblib, which can be installed with: pip install joblib. If this warning is raised when loading pickled models, you may need to re-serialize those models with scikit-learn 0.21+.\n",
      "  warnings.warn(msg, category=DeprecationWarning)\n"
     ]
    }
   ],
   "source": [
    "import numpy as np\n",
    "import pandas as pd\n",
    "from matplotlib import pyplot as plt\n",
    "import mglearn\n",
    "from sklearn.decomposition import PCA\n",
    "\n",
    "from sklearn.preprocessing import StandardScaler\n",
    "from imblearn.over_sampling import SMOTE\n",
    "from sklearn.model_selection import train_test_split\n",
    "from sklearn.metrics import f1_score\n",
    "from sklearn.model_selection import cross_val_score\n",
    "from sklearn.model_selection import GridSearchCV\n",
    "\n",
    "from sklearn.linear_model import LogisticRegression"
   ]
  },
  {
   "cell_type": "markdown",
   "metadata": {},
   "source": [
    "Etiquetamos los nombres de las características en el dataset."
   ]
  },
  {
   "cell_type": "code",
   "execution_count": 2,
   "metadata": {},
   "outputs": [],
   "source": [
    "featuresNames = ['MeanIntegratedProfile',\n",
    "                'StdIntegratedProfile',\n",
    "                'ExcessKurtosisIntegratedProfile',\n",
    "                'SkewnessIntegratedProfile',\n",
    "                'MeanDMSNRCurve',\n",
    "                'StdDMSNRCurve',\n",
    "                'ExcessKurtosisDMSNRCurve',\n",
    "                'SkewnessDMSNRCurve',\n",
    "                'Class']"
   ]
  },
  {
   "cell_type": "markdown",
   "metadata": {},
   "source": [
    "Cargamos la informacion del dataset HTRU2."
   ]
  },
  {
   "cell_type": "code",
   "execution_count": 3,
   "metadata": {
    "scrolled": true
   },
   "outputs": [],
   "source": [
    "data = pd.read_csv('../HTRU_2.csv',\n",
    "                   header = None, \n",
    "                   names = featuresNames)"
   ]
  },
  {
   "cell_type": "markdown",
   "metadata": {},
   "source": [
    "Separamos la variable categórica del dataset."
   ]
  },
  {
   "cell_type": "code",
   "execution_count": 4,
   "metadata": {},
   "outputs": [],
   "source": [
    "x = data.drop('Class', axis = 1, inplace = False)\n",
    "y = data['Class']"
   ]
  },
  {
   "cell_type": "markdown",
   "metadata": {},
   "source": [
    "Como podemos observar, existen variables que varian en un rango mayor de valores que otras. Para realizar una mejor comparacion entre las variables es importante estandarizar las variables con una media de cero y una desviación estándar de 1."
   ]
  },
  {
   "cell_type": "code",
   "execution_count": 5,
   "metadata": {},
   "outputs": [],
   "source": [
    "scaler = StandardScaler()\n",
    "normalized_x = scaler.fit_transform(x)"
   ]
  },
  {
   "cell_type": "markdown",
   "metadata": {},
   "source": [
    "Se divide el dataset en dos conjuntos de datos: entrenamiento y pruebas. El conjunto de entrenamiento estará compuesto por el 90% del dataset y pruebas del 10%.\n",
    "\n",
    "El dataset HTRU2 es un conjunto de datos desbalanceado, por cada púlsar identificado, diez no lo son. Para que esta misma proporción se refleje en los conjuntos de entrenamiento y pruebas se realizará una división estratificada."
   ]
  },
  {
   "cell_type": "code",
   "execution_count": 6,
   "metadata": {},
   "outputs": [
    {
     "data": {
      "text/plain": [
       "0    16259\n",
       "1     1639\n",
       "Name: Class, dtype: int64"
      ]
     },
     "execution_count": 6,
     "metadata": {},
     "output_type": "execute_result"
    }
   ],
   "source": [
    "y.value_counts()"
   ]
  },
  {
   "cell_type": "code",
   "execution_count": 7,
   "metadata": {},
   "outputs": [],
   "source": [
    "x_train, x_test, y_train, y_test = train_test_split(normalized_x,\n",
    "                                                    y,\n",
    "                                                    test_size = 0.1,\n",
    "                                                    random_state = 0,\n",
    "                                                    stratify = y)"
   ]
  },
  {
   "cell_type": "markdown",
   "metadata": {},
   "source": [
    "Ahora ambos conjuntos de datos tienen la misma proporción con respecto a la variable categórica."
   ]
  },
  {
   "cell_type": "code",
   "execution_count": 8,
   "metadata": {},
   "outputs": [
    {
     "name": "stdout",
     "output_type": "stream",
     "text": [
      "0    14633\n",
      "1     1475\n",
      "Name: Class, dtype: int64\n",
      "0    1626\n",
      "1     164\n",
      "Name: Class, dtype: int64\n"
     ]
    }
   ],
   "source": [
    "print(y_train.value_counts())\n",
    "print(y_test.value_counts())"
   ]
  },
  {
   "cell_type": "markdown",
   "metadata": {},
   "source": [
    "Como mencionamos anteriormente, el dataset HTRU2 es conjunto de datos desbalanceado. Para balancear utilizaremos una técnica de oversampling llamada SMOTE, donde se genera nuevas instancias de la clase minoritaria interpolando los valores de las instancias minoritarias más cercanas a una dada. El nuevo ratio será de 1:5, esto quiere decir, que por cada púlsar, cinco no lo serán en el conjunto de entrenamiento."
   ]
  },
  {
   "cell_type": "code",
   "execution_count": 9,
   "metadata": {},
   "outputs": [],
   "source": [
    "smote = SMOTE(random_state = 0,\n",
    "             ratio = 0.20)\n",
    "x_train_smote, y_train_smote = smote.fit_sample(x_train, y_train.ravel())"
   ]
  },
  {
   "cell_type": "markdown",
   "metadata": {},
   "source": [
    "Ahora podemos observar que el conjunto de datos se encuentra balanceado."
   ]
  },
  {
   "cell_type": "code",
   "execution_count": 10,
   "metadata": {},
   "outputs": [
    {
     "data": {
      "text/plain": [
       "array([14633,  2926])"
      ]
     },
     "execution_count": 10,
     "metadata": {},
     "output_type": "execute_result"
    }
   ],
   "source": [
    "np.bincount(y_train_smote)"
   ]
  },
  {
   "cell_type": "markdown",
   "metadata": {},
   "source": [
    "Para encontrar los mejores hiper-parámetros que se ajusten al modelo utilizaremos la técnica de búsqueda en grilla.\n",
    "\n",
    "Para determinar los mejores valores de C, max_iter, solver y tol será necesario probar el modelo con diferentes valores.\n",
    "\n",
    "En cada iteración se realizará validación cruzada con k = 5.\n",
    "\n",
    "La métrica de evaluación será f1."
   ]
  },
  {
   "cell_type": "code",
   "execution_count": 11,
   "metadata": {},
   "outputs": [
    {
     "data": {
      "text/plain": [
       "GridSearchCV(cv=5, error_score='raise-deprecating',\n",
       "             estimator=LogisticRegression(C=1.0, class_weight=None, dual=False,\n",
       "                                          fit_intercept=True,\n",
       "                                          intercept_scaling=1, l1_ratio=None,\n",
       "                                          max_iter=100, multi_class='warn',\n",
       "                                          n_jobs=None, penalty='l2',\n",
       "                                          random_state=None, solver='warn',\n",
       "                                          tol=0.0001, verbose=0,\n",
       "                                          warm_start=False),\n",
       "             iid='warn', n_jobs=None,\n",
       "             param_grid={'C': [0.01, 0.1, 1, 10],\n",
       "                         'max_iter': [100, 200, 500, 1000],\n",
       "                         'solver': ['newton-cg', 'lbfgs'],\n",
       "                         'tol': [0.001, 0.0001, 0.0001]},\n",
       "             pre_dispatch='2*n_jobs', refit=True, return_train_score=False,\n",
       "             scoring='f1', verbose=0)"
      ]
     },
     "execution_count": 11,
     "metadata": {},
     "output_type": "execute_result"
    }
   ],
   "source": [
    "param_grid = {  \n",
    "    'C': [0.01, 0.1, 1, 10],\n",
    "    'max_iter': [100, 200, 500, 1000],\n",
    "    'solver': ['newton-cg', 'lbfgs'],\n",
    "    'tol': [0.001, 0.0001, 0.0001]\n",
    "}\n",
    "\n",
    "grid_search = GridSearchCV(estimator = LogisticRegression(),\n",
    "                           param_grid = param_grid,\n",
    "                           scoring = 'f1',\n",
    "                           cv = 5)\n",
    "\n",
    "grid_search.fit(x_train_smote, y_train_smote)"
   ]
  },
  {
   "cell_type": "code",
   "execution_count": 13,
   "metadata": {},
   "outputs": [
    {
     "name": "stdout",
     "output_type": "stream",
     "text": [
      "Tuneando los hiper-parámetros para f1\n",
      "\n",
      "Los mejores hiper-parámetros encontrados con validación cruzada:\n",
      "\n",
      "{'C': 10, 'max_iter': 100, 'solver': 'newton-cg', 'tol': 0.001}\n",
      "\n",
      "Puntajes de la métrica f1 en el conjunto de validación:\n",
      "\n",
      "0.8787 (+/-0.0200) for {'C': 0.01, 'max_iter': 100, 'solver': 'newton-cg', 'tol': 0.001}\n",
      "0.8787 (+/-0.0200) for {'C': 0.01, 'max_iter': 100, 'solver': 'newton-cg', 'tol': 0.0001}\n",
      "0.8787 (+/-0.0200) for {'C': 0.01, 'max_iter': 100, 'solver': 'newton-cg', 'tol': 0.0001}\n",
      "0.8787 (+/-0.0200) for {'C': 0.01, 'max_iter': 100, 'solver': 'lbfgs', 'tol': 0.001}\n",
      "0.8787 (+/-0.0200) for {'C': 0.01, 'max_iter': 100, 'solver': 'lbfgs', 'tol': 0.0001}\n",
      "0.8787 (+/-0.0200) for {'C': 0.01, 'max_iter': 100, 'solver': 'lbfgs', 'tol': 0.0001}\n",
      "0.8787 (+/-0.0200) for {'C': 0.01, 'max_iter': 200, 'solver': 'newton-cg', 'tol': 0.001}\n",
      "0.8787 (+/-0.0200) for {'C': 0.01, 'max_iter': 200, 'solver': 'newton-cg', 'tol': 0.0001}\n",
      "0.8787 (+/-0.0200) for {'C': 0.01, 'max_iter': 200, 'solver': 'newton-cg', 'tol': 0.0001}\n",
      "0.8787 (+/-0.0200) for {'C': 0.01, 'max_iter': 200, 'solver': 'lbfgs', 'tol': 0.001}\n",
      "0.8787 (+/-0.0200) for {'C': 0.01, 'max_iter': 200, 'solver': 'lbfgs', 'tol': 0.0001}\n",
      "0.8787 (+/-0.0200) for {'C': 0.01, 'max_iter': 200, 'solver': 'lbfgs', 'tol': 0.0001}\n",
      "0.8787 (+/-0.0200) for {'C': 0.01, 'max_iter': 500, 'solver': 'newton-cg', 'tol': 0.001}\n",
      "0.8787 (+/-0.0200) for {'C': 0.01, 'max_iter': 500, 'solver': 'newton-cg', 'tol': 0.0001}\n",
      "0.8787 (+/-0.0200) for {'C': 0.01, 'max_iter': 500, 'solver': 'newton-cg', 'tol': 0.0001}\n",
      "0.8787 (+/-0.0200) for {'C': 0.01, 'max_iter': 500, 'solver': 'lbfgs', 'tol': 0.001}\n",
      "0.8787 (+/-0.0200) for {'C': 0.01, 'max_iter': 500, 'solver': 'lbfgs', 'tol': 0.0001}\n",
      "0.8787 (+/-0.0200) for {'C': 0.01, 'max_iter': 500, 'solver': 'lbfgs', 'tol': 0.0001}\n",
      "0.8787 (+/-0.0200) for {'C': 0.01, 'max_iter': 1000, 'solver': 'newton-cg', 'tol': 0.001}\n",
      "0.8787 (+/-0.0200) for {'C': 0.01, 'max_iter': 1000, 'solver': 'newton-cg', 'tol': 0.0001}\n",
      "0.8787 (+/-0.0200) for {'C': 0.01, 'max_iter': 1000, 'solver': 'newton-cg', 'tol': 0.0001}\n",
      "0.8787 (+/-0.0200) for {'C': 0.01, 'max_iter': 1000, 'solver': 'lbfgs', 'tol': 0.001}\n",
      "0.8787 (+/-0.0200) for {'C': 0.01, 'max_iter': 1000, 'solver': 'lbfgs', 'tol': 0.0001}\n",
      "0.8787 (+/-0.0200) for {'C': 0.01, 'max_iter': 1000, 'solver': 'lbfgs', 'tol': 0.0001}\n",
      "0.8967 (+/-0.0126) for {'C': 0.1, 'max_iter': 100, 'solver': 'newton-cg', 'tol': 0.001}\n",
      "0.8967 (+/-0.0126) for {'C': 0.1, 'max_iter': 100, 'solver': 'newton-cg', 'tol': 0.0001}\n",
      "0.8967 (+/-0.0126) for {'C': 0.1, 'max_iter': 100, 'solver': 'newton-cg', 'tol': 0.0001}\n",
      "0.8967 (+/-0.0126) for {'C': 0.1, 'max_iter': 100, 'solver': 'lbfgs', 'tol': 0.001}\n",
      "0.8967 (+/-0.0126) for {'C': 0.1, 'max_iter': 100, 'solver': 'lbfgs', 'tol': 0.0001}\n",
      "0.8967 (+/-0.0126) for {'C': 0.1, 'max_iter': 100, 'solver': 'lbfgs', 'tol': 0.0001}\n",
      "0.8967 (+/-0.0126) for {'C': 0.1, 'max_iter': 200, 'solver': 'newton-cg', 'tol': 0.001}\n",
      "0.8967 (+/-0.0126) for {'C': 0.1, 'max_iter': 200, 'solver': 'newton-cg', 'tol': 0.0001}\n",
      "0.8967 (+/-0.0126) for {'C': 0.1, 'max_iter': 200, 'solver': 'newton-cg', 'tol': 0.0001}\n",
      "0.8967 (+/-0.0126) for {'C': 0.1, 'max_iter': 200, 'solver': 'lbfgs', 'tol': 0.001}\n",
      "0.8967 (+/-0.0126) for {'C': 0.1, 'max_iter': 200, 'solver': 'lbfgs', 'tol': 0.0001}\n",
      "0.8967 (+/-0.0126) for {'C': 0.1, 'max_iter': 200, 'solver': 'lbfgs', 'tol': 0.0001}\n",
      "0.8967 (+/-0.0126) for {'C': 0.1, 'max_iter': 500, 'solver': 'newton-cg', 'tol': 0.001}\n",
      "0.8967 (+/-0.0126) for {'C': 0.1, 'max_iter': 500, 'solver': 'newton-cg', 'tol': 0.0001}\n",
      "0.8967 (+/-0.0126) for {'C': 0.1, 'max_iter': 500, 'solver': 'newton-cg', 'tol': 0.0001}\n",
      "0.8967 (+/-0.0126) for {'C': 0.1, 'max_iter': 500, 'solver': 'lbfgs', 'tol': 0.001}\n",
      "0.8967 (+/-0.0126) for {'C': 0.1, 'max_iter': 500, 'solver': 'lbfgs', 'tol': 0.0001}\n",
      "0.8967 (+/-0.0126) for {'C': 0.1, 'max_iter': 500, 'solver': 'lbfgs', 'tol': 0.0001}\n",
      "0.8967 (+/-0.0126) for {'C': 0.1, 'max_iter': 1000, 'solver': 'newton-cg', 'tol': 0.001}\n",
      "0.8967 (+/-0.0126) for {'C': 0.1, 'max_iter': 1000, 'solver': 'newton-cg', 'tol': 0.0001}\n",
      "0.8967 (+/-0.0126) for {'C': 0.1, 'max_iter': 1000, 'solver': 'newton-cg', 'tol': 0.0001}\n",
      "0.8967 (+/-0.0126) for {'C': 0.1, 'max_iter': 1000, 'solver': 'lbfgs', 'tol': 0.001}\n",
      "0.8967 (+/-0.0126) for {'C': 0.1, 'max_iter': 1000, 'solver': 'lbfgs', 'tol': 0.0001}\n",
      "0.8967 (+/-0.0126) for {'C': 0.1, 'max_iter': 1000, 'solver': 'lbfgs', 'tol': 0.0001}\n",
      "0.9050 (+/-0.0099) for {'C': 1, 'max_iter': 100, 'solver': 'newton-cg', 'tol': 0.001}\n",
      "0.9050 (+/-0.0099) for {'C': 1, 'max_iter': 100, 'solver': 'newton-cg', 'tol': 0.0001}\n",
      "0.9050 (+/-0.0099) for {'C': 1, 'max_iter': 100, 'solver': 'newton-cg', 'tol': 0.0001}\n",
      "0.9050 (+/-0.0099) for {'C': 1, 'max_iter': 100, 'solver': 'lbfgs', 'tol': 0.001}\n",
      "0.9050 (+/-0.0099) for {'C': 1, 'max_iter': 100, 'solver': 'lbfgs', 'tol': 0.0001}\n",
      "0.9050 (+/-0.0099) for {'C': 1, 'max_iter': 100, 'solver': 'lbfgs', 'tol': 0.0001}\n",
      "0.9050 (+/-0.0099) for {'C': 1, 'max_iter': 200, 'solver': 'newton-cg', 'tol': 0.001}\n",
      "0.9050 (+/-0.0099) for {'C': 1, 'max_iter': 200, 'solver': 'newton-cg', 'tol': 0.0001}\n",
      "0.9050 (+/-0.0099) for {'C': 1, 'max_iter': 200, 'solver': 'newton-cg', 'tol': 0.0001}\n",
      "0.9050 (+/-0.0099) for {'C': 1, 'max_iter': 200, 'solver': 'lbfgs', 'tol': 0.001}\n",
      "0.9050 (+/-0.0099) for {'C': 1, 'max_iter': 200, 'solver': 'lbfgs', 'tol': 0.0001}\n",
      "0.9050 (+/-0.0099) for {'C': 1, 'max_iter': 200, 'solver': 'lbfgs', 'tol': 0.0001}\n",
      "0.9050 (+/-0.0099) for {'C': 1, 'max_iter': 500, 'solver': 'newton-cg', 'tol': 0.001}\n",
      "0.9050 (+/-0.0099) for {'C': 1, 'max_iter': 500, 'solver': 'newton-cg', 'tol': 0.0001}\n",
      "0.9050 (+/-0.0099) for {'C': 1, 'max_iter': 500, 'solver': 'newton-cg', 'tol': 0.0001}\n",
      "0.9050 (+/-0.0099) for {'C': 1, 'max_iter': 500, 'solver': 'lbfgs', 'tol': 0.001}\n",
      "0.9050 (+/-0.0099) for {'C': 1, 'max_iter': 500, 'solver': 'lbfgs', 'tol': 0.0001}\n",
      "0.9050 (+/-0.0099) for {'C': 1, 'max_iter': 500, 'solver': 'lbfgs', 'tol': 0.0001}\n",
      "0.9050 (+/-0.0099) for {'C': 1, 'max_iter': 1000, 'solver': 'newton-cg', 'tol': 0.001}\n",
      "0.9050 (+/-0.0099) for {'C': 1, 'max_iter': 1000, 'solver': 'newton-cg', 'tol': 0.0001}\n",
      "0.9050 (+/-0.0099) for {'C': 1, 'max_iter': 1000, 'solver': 'newton-cg', 'tol': 0.0001}\n",
      "0.9050 (+/-0.0099) for {'C': 1, 'max_iter': 1000, 'solver': 'lbfgs', 'tol': 0.001}\n",
      "0.9050 (+/-0.0099) for {'C': 1, 'max_iter': 1000, 'solver': 'lbfgs', 'tol': 0.0001}\n",
      "0.9050 (+/-0.0099) for {'C': 1, 'max_iter': 1000, 'solver': 'lbfgs', 'tol': 0.0001}\n",
      "0.9056 (+/-0.0108) for {'C': 10, 'max_iter': 100, 'solver': 'newton-cg', 'tol': 0.001}\n",
      "0.9056 (+/-0.0108) for {'C': 10, 'max_iter': 100, 'solver': 'newton-cg', 'tol': 0.0001}\n",
      "0.9056 (+/-0.0108) for {'C': 10, 'max_iter': 100, 'solver': 'newton-cg', 'tol': 0.0001}\n",
      "0.9056 (+/-0.0108) for {'C': 10, 'max_iter': 100, 'solver': 'lbfgs', 'tol': 0.001}\n",
      "0.9056 (+/-0.0108) for {'C': 10, 'max_iter': 100, 'solver': 'lbfgs', 'tol': 0.0001}\n",
      "0.9056 (+/-0.0108) for {'C': 10, 'max_iter': 100, 'solver': 'lbfgs', 'tol': 0.0001}\n",
      "0.9056 (+/-0.0108) for {'C': 10, 'max_iter': 200, 'solver': 'newton-cg', 'tol': 0.001}\n",
      "0.9056 (+/-0.0108) for {'C': 10, 'max_iter': 200, 'solver': 'newton-cg', 'tol': 0.0001}\n",
      "0.9056 (+/-0.0108) for {'C': 10, 'max_iter': 200, 'solver': 'newton-cg', 'tol': 0.0001}\n",
      "0.9056 (+/-0.0108) for {'C': 10, 'max_iter': 200, 'solver': 'lbfgs', 'tol': 0.001}\n",
      "0.9056 (+/-0.0108) for {'C': 10, 'max_iter': 200, 'solver': 'lbfgs', 'tol': 0.0001}\n",
      "0.9056 (+/-0.0108) for {'C': 10, 'max_iter': 200, 'solver': 'lbfgs', 'tol': 0.0001}\n",
      "0.9056 (+/-0.0108) for {'C': 10, 'max_iter': 500, 'solver': 'newton-cg', 'tol': 0.001}\n",
      "0.9056 (+/-0.0108) for {'C': 10, 'max_iter': 500, 'solver': 'newton-cg', 'tol': 0.0001}\n",
      "0.9056 (+/-0.0108) for {'C': 10, 'max_iter': 500, 'solver': 'newton-cg', 'tol': 0.0001}\n",
      "0.9056 (+/-0.0108) for {'C': 10, 'max_iter': 500, 'solver': 'lbfgs', 'tol': 0.001}\n",
      "0.9056 (+/-0.0108) for {'C': 10, 'max_iter': 500, 'solver': 'lbfgs', 'tol': 0.0001}\n",
      "0.9056 (+/-0.0108) for {'C': 10, 'max_iter': 500, 'solver': 'lbfgs', 'tol': 0.0001}\n",
      "0.9056 (+/-0.0108) for {'C': 10, 'max_iter': 1000, 'solver': 'newton-cg', 'tol': 0.001}\n",
      "0.9056 (+/-0.0108) for {'C': 10, 'max_iter': 1000, 'solver': 'newton-cg', 'tol': 0.0001}\n",
      "0.9056 (+/-0.0108) for {'C': 10, 'max_iter': 1000, 'solver': 'newton-cg', 'tol': 0.0001}\n",
      "0.9056 (+/-0.0108) for {'C': 10, 'max_iter': 1000, 'solver': 'lbfgs', 'tol': 0.001}\n",
      "0.9056 (+/-0.0108) for {'C': 10, 'max_iter': 1000, 'solver': 'lbfgs', 'tol': 0.0001}\n",
      "0.9056 (+/-0.0108) for {'C': 10, 'max_iter': 1000, 'solver': 'lbfgs', 'tol': 0.0001}\n"
     ]
    }
   ],
   "source": [
    "print('Tuneando los hiper-parámetros para f1')\n",
    "print()\n",
    "\n",
    "print('Los mejores hiper-parámetros encontrados con validación cruzada:')\n",
    "print()\n",
    "print(grid_search.best_params_)\n",
    "print()\n",
    "print('Puntajes de la métrica f1 en el conjunto de validación:')\n",
    "print()\n",
    "means = grid_search.cv_results_['mean_test_score']\n",
    "stds = grid_search.cv_results_['std_test_score']\n",
    "for mean, std, params in zip(means, stds, grid_search.cv_results_['params']):\n",
    "    print('%0.4f (+/-%0.04f) for %r'\n",
    "          % (mean, std * 2, params))"
   ]
  },
  {
   "cell_type": "markdown",
   "metadata": {},
   "source": [
    "La búsqueda en grilla nos devuelve el modelo con los mejores hiper-parámetros.\n",
    "\n",
    "Finalmente, vamos a predecir los resultados del modelo con los conjuntos de datos de entrenamiento y pruebas."
   ]
  },
  {
   "cell_type": "code",
   "execution_count": 12,
   "metadata": {},
   "outputs": [],
   "source": [
    "logistic_regression_model = grid_search\n",
    "\n",
    "logistic_regression_model_train_prediction = logistic_regression_model.predict(x_train_smote)\n",
    "logistic_regression_model_test_prediction = logistic_regression_model.predict(x_test)"
   ]
  },
  {
   "cell_type": "code",
   "execution_count": 13,
   "metadata": {},
   "outputs": [
    {
     "name": "stdout",
     "output_type": "stream",
     "text": [
      "Regresión logística\n",
      "\t-Mejores hiper-parámetros: {'C': 10, 'max_iter': 100, 'solver': 'newton-cg', 'tol': 0.001}\n",
      "\t-Puntaje f1 en entrenamiento: 0.9066\n",
      "\t-Puntaje f1 en pruebas: 0.9024\n"
     ]
    }
   ],
   "source": [
    "print('Regresión logística')\n",
    "print('\\t-Mejores hiper-parámetros: ' + str(logistic_regression_model.best_params_))\n",
    "print('\\t-Puntaje f1 en entrenamiento: %.4f' % f1_score(y_train_smote, logistic_regression_model_train_prediction, average = 'binary'))\n",
    "print('\\t-Puntaje f1 en pruebas: %.4f' % f1_score(y_test, logistic_regression_model_test_prediction, average = 'binary'))"
   ]
  },
  {
   "cell_type": "code",
   "execution_count": 14,
   "metadata": {},
   "outputs": [
    {
     "name": "stdout",
     "output_type": "stream",
     "text": [
      "32\n",
      "32\n"
     ]
    }
   ],
   "source": [
    "predictionssss = logistic_regression_model_test_prediction\n",
    "invalid = []\n",
    "valid = []\n",
    "invalidClass = []\n",
    "validClass = []\n",
    "k = 0\n",
    "for it in y_test:\n",
    "    if(predictionssss[k] != it):\n",
    "        invalid.append(x_test[k])\n",
    "        invalidClass.append(it)\n",
    "    else:\n",
    "        valid.append(x_test[k])\n",
    "        validClass.append(it)\n",
    "        \n",
    "    k = k + 1\n",
    "    \n",
    "print(len(invalid))\n",
    "print(len(invalidClass))"
   ]
  },
  {
   "cell_type": "code",
   "execution_count": 15,
   "metadata": {},
   "outputs": [
    {
     "data": {
      "text/plain": [
       "Text(0, 0.5, 'PCA 2')"
      ]
     },
     "execution_count": 15,
     "metadata": {},
     "output_type": "execute_result"
    },
    {
     "data": {
      "image/png": "[encoded data removed]",
      "text/plain": [
       "<Figure size 432x288 with 1 Axes>"
      ]
     },
     "metadata": {
      "needs_background": "light"
     },
     "output_type": "display_data"
    }
   ],
   "source": [
    "pca = PCA().fit(invalid)\n",
    "transformada = pca.transform(invalid)\n",
    "mglearn.discrete_scatter(transformada[:,0], transformada[:,1], invalidClass)\n",
    "plt.legend(y.unique(), loc = 'best')\n",
    "plt.xlabel('PCA 1')\n",
    "plt.ylabel('PCA 2')"
   ]
  },
  {
   "cell_type": "code",
   "execution_count": 16,
   "metadata": {},
   "outputs": [
    {
     "data": {
      "text/plain": [
       "Text(0, 0.5, 'PCA 2')"
      ]
     },
     "execution_count": 16,
     "metadata": {},
     "output_type": "execute_result"
    },
    {
     "data": {
      "image/png": "[encoded data removed]",
      "text/plain": [
       "<Figure size 432x288 with 1 Axes>"
      ]
     },
     "metadata": {
      "needs_background": "light"
     },
     "output_type": "display_data"
    }
   ],
   "source": [
    "pca = PCA().fit(valid)\n",
    "transformada = pca.transform(valid)\n",
    "mglearn.discrete_scatter(transformada[:,0], transformada[:,1], validClass)\n",
    "plt.legend(y.unique(), loc = 'best')\n",
    "plt.xlabel('PCA 1')\n",
    "plt.ylabel('PCA 2')"
   ]
  },
  {
   "cell_type": "code",
   "execution_count": null,
   "metadata": {},
   "outputs": [],
   "source": []
  }
 ],
 "metadata": {
  "kernelspec": {
   "display_name": "Python 3",
   "language": "python",
   "name": "python3"
  },
  "language_info": {
   "codemirror_mode": {
    "name": "ipython",
    "version": 3
   },
   "file_extension": ".py",
   "mimetype": "text/x-python",
   "name": "python",
   "nbconvert_exporter": "python",
   "pygments_lexer": "ipython3",
   "version": "3.6.3"
  }
 },
 "nbformat": 4,
 "nbformat_minor": 2
}
