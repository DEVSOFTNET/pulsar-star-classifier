{
 "cells": [
  {
   "cell_type": "code",
   "execution_count": 1,
   "metadata": {},
   "outputs": [],
   "source": [
    "import numpy as np\n",
    "import pandas as pd\n",
    "from matplotlib import pyplot as plt\n",
    "\n",
    "from sklearn.preprocessing import StandardScaler\n",
    "from imblearn.over_sampling import SMOTE\n",
    "from sklearn.model_selection import train_test_split\n",
    "from sklearn.metrics import f1_score\n",
    "from sklearn.model_selection import cross_val_score\n",
    "from sklearn.model_selection import GridSearchCV\n",
    "\n",
    "from sklearn.svm import SVC"
   ]
  },
  {
   "cell_type": "markdown",
   "metadata": {},
   "source": [
    "Etiquetamos los nombres de las características en el dataset."
   ]
  },
  {
   "cell_type": "code",
   "execution_count": 2,
   "metadata": {},
   "outputs": [],
   "source": [
    "featuresNames = ['MeanIntegratedProfile',\n",
    "                'StdIntegratedProfile',\n",
    "                'ExcessKurtosisIntegratedProfile',\n",
    "                'SkewnessIntegratedProfile',\n",
    "                'MeanDMSNRCurve',\n",
    "                'StdDMSNRCurve',\n",
    "                'ExcessKurtosisDMSNRCurve',\n",
    "                'SkewnessDMSNRCurve',\n",
    "                'Class']"
   ]
  },
  {
   "cell_type": "markdown",
   "metadata": {},
   "source": [
    "Cargamos la informacion del dataset HTRU2."
   ]
  },
  {
   "cell_type": "code",
   "execution_count": 3,
   "metadata": {},
   "outputs": [],
   "source": [
    "data = pd.read_csv('../HTRU_2.csv',\n",
    "                   header = None, \n",
    "                   names = featuresNames)"
   ]
  },
  {
   "cell_type": "markdown",
   "metadata": {},
   "source": [
    "Separamos la variable categórica del dataset."
   ]
  },
  {
   "cell_type": "code",
   "execution_count": 4,
   "metadata": {},
   "outputs": [],
   "source": [
    "x = data.drop('Class', axis = 1, inplace = False)\n",
    "y = data['Class']"
   ]
  },
  {
   "cell_type": "markdown",
   "metadata": {},
   "source": [
    "Como podemos observar, existen variables que varian en un rango mayor de valores que otras. Para realizar una mejor comparacion entre las variables es importante estandarizar las variables con una media de cero y una desviación estándar de 1."
   ]
  },
  {
   "cell_type": "code",
   "execution_count": 5,
   "metadata": {},
   "outputs": [],
   "source": [
    "scaler = StandardScaler()\n",
    "normalized_x = scaler.fit_transform(x)"
   ]
  },
  {
   "cell_type": "markdown",
   "metadata": {},
   "source": [
    "Se divide el dataset en dos conjuntos de datos: entrenamiento y pruebas. El conjunto de entrenamiento estará compuesto por el 90% del dataset y pruebas del 10%.\n",
    "\n",
    "El dataset HTRU2 es un conjunto de datos desbalanceado, por cada púlsar identificado, diez no lo son. Para que esta misma proporción se refleje en los conjuntos de entrenamiento y pruebas se realizará una división estratificada."
   ]
  },
  {
   "cell_type": "code",
   "execution_count": 6,
   "metadata": {},
   "outputs": [
    {
     "data": {
      "text/plain": [
       "0    16259\n",
       "1     1639\n",
       "Name: Class, dtype: int64"
      ]
     },
     "execution_count": 6,
     "metadata": {},
     "output_type": "execute_result"
    }
   ],
   "source": [
    "y.value_counts()"
   ]
  },
  {
   "cell_type": "code",
   "execution_count": 7,
   "metadata": {},
   "outputs": [],
   "source": [
    "x_train, x_test, y_train, y_test = train_test_split(normalized_x,\n",
    "                                                    y,\n",
    "                                                    test_size = 0.1,\n",
    "                                                    random_state = 0,\n",
    "                                                    stratify = y)"
   ]
  },
  {
   "cell_type": "markdown",
   "metadata": {},
   "source": [
    "Ahora ambos conjuntos de datos tienen la misma proporción con respecto a la variable categórica."
   ]
  },
  {
   "cell_type": "code",
   "execution_count": 8,
   "metadata": {},
   "outputs": [
    {
     "name": "stdout",
     "output_type": "stream",
     "text": [
      "0    14633\n",
      "1     1475\n",
      "Name: Class, dtype: int64\n",
      "0    1626\n",
      "1     164\n",
      "Name: Class, dtype: int64\n"
     ]
    }
   ],
   "source": [
    "print(y_train.value_counts())\n",
    "print(y_test.value_counts())"
   ]
  },
  {
   "cell_type": "markdown",
   "metadata": {},
   "source": [
    "Como mencionamos anteriormente, el dataset HTRU2 es conjunto de datos desbalanceado. Para balancear utilizaremos una técnica de oversampling llamada SMOTE, donde se genera nuevas instancias de la clase minoritaria interpolando los valores de las instancias minoritarias más cercanas a una dada. El nuevo ratio será de 1:5, esto quiere decir, que por cada púlsar, cinco no lo serán en el conjunto de entrenamiento."
   ]
  },
  {
   "cell_type": "code",
   "execution_count": 9,
   "metadata": {},
   "outputs": [],
   "source": [
    "smote = SMOTE(random_state = 0,\n",
    "             ratio = 0.2)\n",
    "x_train_smote, y_train_smote = smote.fit_sample(x_train, y_train.ravel())"
   ]
  },
  {
   "cell_type": "markdown",
   "metadata": {},
   "source": [
    "Ahora podemos observar que el conjunto de datos se encuentra balanceado."
   ]
  },
  {
   "cell_type": "code",
   "execution_count": 10,
   "metadata": {},
   "outputs": [
    {
     "data": {
      "text/plain": [
       "array([14633,  2926])"
      ]
     },
     "execution_count": 10,
     "metadata": {},
     "output_type": "execute_result"
    }
   ],
   "source": [
    "np.bincount(y_train_smote)"
   ]
  },
  {
   "cell_type": "markdown",
   "metadata": {},
   "source": [
    "Para encontrar los mejores hiper-parámetros que se ajusten al modelo utilizaremos la técnica de búsqueda en grilla. \n",
    "\n",
    "Para determinar los mejores valores de C, gamma y kernel será necesario probar el modelo con diferentes valores.\n",
    "\n",
    "En cada iteración se realizará validación cruzada con k = 5.\n",
    "\n",
    "La métrica de evaluación será f1."
   ]
  },
  {
   "cell_type": "code",
   "execution_count": 11,
   "metadata": {},
   "outputs": [
    {
     "data": {
      "text/plain": [
       "GridSearchCV(cv=5, error_score='raise-deprecating',\n",
       "       estimator=SVC(C=1.0, cache_size=200, class_weight=None, coef0=0.0,\n",
       "  decision_function_shape='ovr', degree=3, gamma='auto_deprecated',\n",
       "  kernel='rbf', max_iter=-1, probability=False, random_state=None,\n",
       "  shrinking=True, tol=0.001, verbose=False),\n",
       "       fit_params=None, iid='warn', n_jobs=None,\n",
       "       param_grid={'C': [0.1, 1, 10], 'gamma': [0.1, 0.01, 0.001, 0.0001], 'kernel': ['rbf'], 'tol': [0.001, 0.0001, 0.0001]},\n",
       "       pre_dispatch='2*n_jobs', refit=True, return_train_score='warn',\n",
       "       scoring='f1', verbose=0)"
      ]
     },
     "execution_count": 11,
     "metadata": {},
     "output_type": "execute_result"
    }
   ],
   "source": [
    "param_grid = {  \n",
    "    'C': [0.1, 1, 10],\n",
    "    'gamma': [0.1, 0.01, 0.001, 0.0001],\n",
    "    'kernel': ['rbf'],\n",
    "    'tol': [0.001, 0.0001, 0.0001]\n",
    "}\n",
    "\n",
    "grid_search = GridSearchCV(estimator = SVC(),\n",
    "                           param_grid = param_grid,\n",
    "                           scoring = 'f1',\n",
    "                           cv = 5)\n",
    "\n",
    "grid_search.fit(x_train_smote, y_train_smote)"
   ]
  },
  {
   "cell_type": "code",
   "execution_count": 12,
   "metadata": {},
   "outputs": [
    {
     "name": "stdout",
     "output_type": "stream",
     "text": [
      "Tuneando los hiper-parámetros para f1\n",
      "\n",
      "Los mejores hiper-parámetros encontrados con validación cruzada:\n",
      "\n",
      "{'C': 10, 'gamma': 0.1, 'kernel': 'rbf', 'tol': 0.001}\n",
      "\n",
      "Puntajes de la métrica f1 en el conjunto de validación:\n",
      "\n",
      "0.8944 (+/-0.0150) for {'C': 0.1, 'gamma': 0.1, 'kernel': 'rbf', 'tol': 0.001}\n",
      "0.8942 (+/-0.0148) for {'C': 0.1, 'gamma': 0.1, 'kernel': 'rbf', 'tol': 0.0001}\n",
      "0.8942 (+/-0.0148) for {'C': 0.1, 'gamma': 0.1, 'kernel': 'rbf', 'tol': 0.0001}\n",
      "0.8686 (+/-0.0166) for {'C': 0.1, 'gamma': 0.01, 'kernel': 'rbf', 'tol': 0.001}\n",
      "0.8686 (+/-0.0166) for {'C': 0.1, 'gamma': 0.01, 'kernel': 'rbf', 'tol': 0.0001}\n",
      "0.8686 (+/-0.0166) for {'C': 0.1, 'gamma': 0.01, 'kernel': 'rbf', 'tol': 0.0001}\n",
      "0.8067 (+/-0.0190) for {'C': 0.1, 'gamma': 0.001, 'kernel': 'rbf', 'tol': 0.001}\n",
      "0.8067 (+/-0.0190) for {'C': 0.1, 'gamma': 0.001, 'kernel': 'rbf', 'tol': 0.0001}\n",
      "0.8067 (+/-0.0190) for {'C': 0.1, 'gamma': 0.001, 'kernel': 'rbf', 'tol': 0.0001}\n",
      "0.5534 (+/-0.0461) for {'C': 0.1, 'gamma': 0.0001, 'kernel': 'rbf', 'tol': 0.001}\n",
      "0.5534 (+/-0.0461) for {'C': 0.1, 'gamma': 0.0001, 'kernel': 'rbf', 'tol': 0.0001}\n",
      "0.5534 (+/-0.0461) for {'C': 0.1, 'gamma': 0.0001, 'kernel': 'rbf', 'tol': 0.0001}\n",
      "0.9047 (+/-0.0139) for {'C': 1, 'gamma': 0.1, 'kernel': 'rbf', 'tol': 0.001}\n",
      "0.9047 (+/-0.0139) for {'C': 1, 'gamma': 0.1, 'kernel': 'rbf', 'tol': 0.0001}\n",
      "0.9047 (+/-0.0139) for {'C': 1, 'gamma': 0.1, 'kernel': 'rbf', 'tol': 0.0001}\n",
      "0.8975 (+/-0.0095) for {'C': 1, 'gamma': 0.01, 'kernel': 'rbf', 'tol': 0.001}\n",
      "0.8975 (+/-0.0095) for {'C': 1, 'gamma': 0.01, 'kernel': 'rbf', 'tol': 0.0001}\n",
      "0.8975 (+/-0.0095) for {'C': 1, 'gamma': 0.01, 'kernel': 'rbf', 'tol': 0.0001}\n",
      "0.8663 (+/-0.0124) for {'C': 1, 'gamma': 0.001, 'kernel': 'rbf', 'tol': 0.001}\n",
      "0.8663 (+/-0.0124) for {'C': 1, 'gamma': 0.001, 'kernel': 'rbf', 'tol': 0.0001}\n",
      "0.8663 (+/-0.0124) for {'C': 1, 'gamma': 0.001, 'kernel': 'rbf', 'tol': 0.0001}\n",
      "0.8075 (+/-0.0188) for {'C': 1, 'gamma': 0.0001, 'kernel': 'rbf', 'tol': 0.001}\n",
      "0.8072 (+/-0.0192) for {'C': 1, 'gamma': 0.0001, 'kernel': 'rbf', 'tol': 0.0001}\n",
      "0.8072 (+/-0.0192) for {'C': 1, 'gamma': 0.0001, 'kernel': 'rbf', 'tol': 0.0001}\n",
      "0.9095 (+/-0.0150) for {'C': 10, 'gamma': 0.1, 'kernel': 'rbf', 'tol': 0.001}\n",
      "0.9095 (+/-0.0150) for {'C': 10, 'gamma': 0.1, 'kernel': 'rbf', 'tol': 0.0001}\n",
      "0.9095 (+/-0.0150) for {'C': 10, 'gamma': 0.1, 'kernel': 'rbf', 'tol': 0.0001}\n",
      "0.9090 (+/-0.0112) for {'C': 10, 'gamma': 0.01, 'kernel': 'rbf', 'tol': 0.001}\n",
      "0.9090 (+/-0.0112) for {'C': 10, 'gamma': 0.01, 'kernel': 'rbf', 'tol': 0.0001}\n",
      "0.9090 (+/-0.0112) for {'C': 10, 'gamma': 0.01, 'kernel': 'rbf', 'tol': 0.0001}\n",
      "0.8973 (+/-0.0104) for {'C': 10, 'gamma': 0.001, 'kernel': 'rbf', 'tol': 0.001}\n",
      "0.8973 (+/-0.0104) for {'C': 10, 'gamma': 0.001, 'kernel': 'rbf', 'tol': 0.0001}\n",
      "0.8973 (+/-0.0104) for {'C': 10, 'gamma': 0.001, 'kernel': 'rbf', 'tol': 0.0001}\n",
      "0.8660 (+/-0.0133) for {'C': 10, 'gamma': 0.0001, 'kernel': 'rbf', 'tol': 0.001}\n",
      "0.8660 (+/-0.0133) for {'C': 10, 'gamma': 0.0001, 'kernel': 'rbf', 'tol': 0.0001}\n",
      "0.8660 (+/-0.0133) for {'C': 10, 'gamma': 0.0001, 'kernel': 'rbf', 'tol': 0.0001}\n"
     ]
    }
   ],
   "source": [
    "print('Tuneando los hiper-parámetros para f1')\n",
    "print()\n",
    "\n",
    "print('Los mejores hiper-parámetros encontrados con validación cruzada:')\n",
    "print()\n",
    "print(grid_search.best_params_)\n",
    "print()\n",
    "print('Puntajes de la métrica f1 en el conjunto de validación:')\n",
    "print()\n",
    "means = grid_search.cv_results_['mean_test_score']\n",
    "stds = grid_search.cv_results_['std_test_score']\n",
    "for mean, std, params in zip(means, stds, grid_search.cv_results_['params']):\n",
    "    print('%0.4f (+/-%0.04f) for %r'\n",
    "          % (mean, std * 2, params))"
   ]
  },
  {
   "cell_type": "markdown",
   "metadata": {},
   "source": [
    "La búsqueda en grilla nos devuelve el modelo con los mejores hiper-parámetros.\n",
    "\n",
    "Finalmente, vamos a predecir los resultados del modelo con los conjuntos de datos de entrenamiento y pruebas."
   ]
  },
  {
   "cell_type": "code",
   "execution_count": 13,
   "metadata": {},
   "outputs": [],
   "source": [
    "support_vector_model = grid_search\n",
    "\n",
    "support_vector_model_train_prediction = support_vector_model.predict(x_train_smote)\n",
    "support_vector_model_test_prediction = support_vector_model.predict(x_test)"
   ]
  },
  {
   "cell_type": "code",
   "execution_count": 14,
   "metadata": {},
   "outputs": [
    {
     "name": "stdout",
     "output_type": "stream",
     "text": [
      "Máquina de soporte vectorial\n",
      "\t-Mejores hiper-parámetros: {'C': 10, 'gamma': 0.1, 'kernel': 'rbf', 'tol': 0.001}\n",
      "\t-Puntaje f1 en entrenamiento: 0.9146\n",
      "\t-Puntaje f1 en pruebas: 0.8997\n"
     ]
    }
   ],
   "source": [
    "print('Máquina de soporte vectorial')\n",
    "print('\\t-Mejores hiper-parámetros: ' + str(support_vector_model.best_params_))\n",
    "print('\\t-Puntaje f1 en entrenamiento: %.4f' % f1_score(y_train_smote, support_vector_model_train_prediction, average = 'binary'))\n",
    "print('\\t-Puntaje f1 en pruebas: %.4f' % f1_score(y_test, support_vector_model_test_prediction, average = 'binary'))"
   ]
  }
 ],
 "metadata": {
  "kernelspec": {
   "display_name": "Python 3",
   "language": "python",
   "name": "python3"
  },
  "language_info": {
   "codemirror_mode": {
    "name": "ipython",
    "version": 3
   },
   "file_extension": ".py",
   "mimetype": "text/x-python",
   "name": "python",
   "nbconvert_exporter": "python",
   "pygments_lexer": "ipython3",
   "version": "3.7.3"
  }
 },
 "nbformat": 4,
 "nbformat_minor": 2
}
