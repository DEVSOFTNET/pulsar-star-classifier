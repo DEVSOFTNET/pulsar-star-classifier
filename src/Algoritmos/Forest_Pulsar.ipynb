{
 "cells": [
  {
   "cell_type": "markdown",
   "metadata": {
    "colab_type": "text",
    "id": "vlU93fmVSOOG"
   },
   "source": [
    "# MACHING LEARNING - PULSAR "
   ]
  },
  {
   "cell_type": "markdown",
   "metadata": {
    "colab_type": "text",
    "id": "JvQxWThuSOOJ"
   },
   "source": [
    "## ● Analisis de Datos"
   ]
  },
  {
   "cell_type": "markdown",
   "metadata": {
    "colab_type": "text",
    "id": "ttvMXRJvSOOK"
   },
   "source": [
    "### Librerias"
   ]
  },
  {
   "cell_type": "code",
   "execution_count": 1,
   "metadata": {
    "colab": {},
    "colab_type": "code",
    "id": "jGhHruo1SOOL"
   },
   "outputs": [],
   "source": [
    "import utils, pickle\n",
    "import numpy as np\n",
    "import pandas as pd\n",
    "import seaborn as sns\n",
    "import matplotlib.pyplot as plt\n",
    "from sklearn.preprocessing import scale\n",
    "from sklearn.model_selection import train_test_split\n",
    "from sklearn.metrics import f1_score\n",
    "from sklearn.model_selection import cross_val_score\n",
    "from sklearn.model_selection import GridSearchCV\n",
    "%matplotlib inline\n",
    "\n",
    "pd.set_option('display.max_columns', 50)"
   ]
  },
  {
   "cell_type": "markdown",
   "metadata": {
    "colab_type": "text",
    "id": "tUH4frjwSOOU"
   },
   "source": [
    "### Nombre de las caracteristicas"
   ]
  },
  {
   "cell_type": "code",
   "execution_count": 2,
   "metadata": {
    "colab": {},
    "colab_type": "code",
    "id": "UeZF1HSjSOOU"
   },
   "outputs": [],
   "source": [
    "featuresNames = ['MeanIntegratedProfile',\n",
    "                'StdIntegratedProfile',\n",
    "                'ExcessKurtosisIntegratedProfile',\n",
    "                'SkewnessIntegratedProfile',\n",
    "                'MeanDMSNRCurve',\n",
    "                'StdDMSNRCurve',\n",
    "                'ExcessKurtosisDMSNRCurve',\n",
    "                'SkewnessDMSNRCurve',\n",
    "                'Class']"
   ]
  },
  {
   "cell_type": "markdown",
   "metadata": {
    "colab_type": "text",
    "id": "K16r3adGSOOf"
   },
   "source": [
    "## [PulsarDataset](https://archive.ics.uci.edu/ml/datasets/HTRU2)"
   ]
  },
  {
   "cell_type": "code",
   "execution_count": 3,
   "metadata": {
    "colab": {},
    "colab_type": "code",
    "id": "ji88wHIdSOOg",
    "scrolled": true
   },
   "outputs": [],
   "source": [
    "pulsar_data = pd.read_csv('HTRU_2.csv',header = None,names = featuresNames)"
   ]
  },
  {
   "cell_type": "code",
   "execution_count": 4,
   "metadata": {
    "colab": {
     "base_uri": "https://localhost:8080/",
     "height": 34
    },
    "colab_type": "code",
    "executionInfo": {
     "elapsed": 467,
     "status": "ok",
     "timestamp": 1553562795790,
     "user": {
      "displayName": "JOSE ULISES MORALES PARIONA",
      "photoUrl": "",
      "userId": "00382232284297406068"
     },
     "user_tz": 300
    },
    "id": "TGsdoL6ISOOj",
    "outputId": "65f01055-6d0b-4d46-ae76-2a892eb5f48d"
   },
   "outputs": [
    {
     "data": {
      "text/plain": [
       "(17898, 9)"
      ]
     },
     "execution_count": 4,
     "metadata": {},
     "output_type": "execute_result"
    }
   ],
   "source": [
    "pulsar_data.shape"
   ]
  },
  {
   "cell_type": "code",
   "execution_count": 6,
   "metadata": {
    "colab": {
     "base_uri": "https://localhost:8080/",
     "height": 3247
    },
    "colab_type": "code",
    "executionInfo": {
     "elapsed": 491,
     "status": "ok",
     "timestamp": 1553563141655,
     "user": {
      "displayName": "JOSE ULISES MORALES PARIONA",
      "photoUrl": "",
      "userId": "00382232284297406068"
     },
     "user_tz": 300
    },
    "id": "Dlj4-_nXSOOq",
    "outputId": "edf3970e-8a9c-44ff-c977-5e9384fed53d"
   },
   "outputs": [
    {
     "data": {
      "text/html": [
       "<div>\n",
       "<style scoped>\n",
       "    .dataframe tbody tr th:only-of-type {\n",
       "        vertical-align: middle;\n",
       "    }\n",
       "\n",
       "    .dataframe tbody tr th {\n",
       "        vertical-align: top;\n",
       "    }\n",
       "\n",
       "    .dataframe thead th {\n",
       "        text-align: right;\n",
       "    }\n",
       "</style>\n",
       "<table border=\"1\" class=\"dataframe\">\n",
       "  <thead>\n",
       "    <tr style=\"text-align: right;\">\n",
       "      <th></th>\n",
       "      <th>MeanIntegratedProfile</th>\n",
       "      <th>StdIntegratedProfile</th>\n",
       "      <th>ExcessKurtosisIntegratedProfile</th>\n",
       "      <th>SkewnessIntegratedProfile</th>\n",
       "      <th>MeanDMSNRCurve</th>\n",
       "      <th>StdDMSNRCurve</th>\n",
       "      <th>ExcessKurtosisDMSNRCurve</th>\n",
       "      <th>SkewnessDMSNRCurve</th>\n",
       "      <th>Class</th>\n",
       "    </tr>\n",
       "  </thead>\n",
       "  <tbody>\n",
       "    <tr>\n",
       "      <th>0</th>\n",
       "      <td>140.562500</td>\n",
       "      <td>55.683782</td>\n",
       "      <td>-0.234571</td>\n",
       "      <td>-0.699648</td>\n",
       "      <td>3.199833</td>\n",
       "      <td>19.110426</td>\n",
       "      <td>7.975532</td>\n",
       "      <td>74.242225</td>\n",
       "      <td>0</td>\n",
       "    </tr>\n",
       "    <tr>\n",
       "      <th>1</th>\n",
       "      <td>102.507812</td>\n",
       "      <td>58.882430</td>\n",
       "      <td>0.465318</td>\n",
       "      <td>-0.515088</td>\n",
       "      <td>1.677258</td>\n",
       "      <td>14.860146</td>\n",
       "      <td>10.576487</td>\n",
       "      <td>127.393580</td>\n",
       "      <td>0</td>\n",
       "    </tr>\n",
       "    <tr>\n",
       "      <th>2</th>\n",
       "      <td>103.015625</td>\n",
       "      <td>39.341649</td>\n",
       "      <td>0.323328</td>\n",
       "      <td>1.051164</td>\n",
       "      <td>3.121237</td>\n",
       "      <td>21.744669</td>\n",
       "      <td>7.735822</td>\n",
       "      <td>63.171909</td>\n",
       "      <td>0</td>\n",
       "    </tr>\n",
       "    <tr>\n",
       "      <th>3</th>\n",
       "      <td>136.750000</td>\n",
       "      <td>57.178449</td>\n",
       "      <td>-0.068415</td>\n",
       "      <td>-0.636238</td>\n",
       "      <td>3.642977</td>\n",
       "      <td>20.959280</td>\n",
       "      <td>6.896499</td>\n",
       "      <td>53.593661</td>\n",
       "      <td>0</td>\n",
       "    </tr>\n",
       "    <tr>\n",
       "      <th>4</th>\n",
       "      <td>88.726562</td>\n",
       "      <td>40.672225</td>\n",
       "      <td>0.600866</td>\n",
       "      <td>1.123492</td>\n",
       "      <td>1.178930</td>\n",
       "      <td>11.468720</td>\n",
       "      <td>14.269573</td>\n",
       "      <td>252.567306</td>\n",
       "      <td>0</td>\n",
       "    </tr>\n",
       "  </tbody>\n",
       "</table>\n",
       "</div>"
      ],
      "text/plain": [
       "   MeanIntegratedProfile  StdIntegratedProfile  \\\n",
       "0             140.562500             55.683782   \n",
       "1             102.507812             58.882430   \n",
       "2             103.015625             39.341649   \n",
       "3             136.750000             57.178449   \n",
       "4              88.726562             40.672225   \n",
       "\n",
       "   ExcessKurtosisIntegratedProfile  SkewnessIntegratedProfile  MeanDMSNRCurve  \\\n",
       "0                        -0.234571                  -0.699648        3.199833   \n",
       "1                         0.465318                  -0.515088        1.677258   \n",
       "2                         0.323328                   1.051164        3.121237   \n",
       "3                        -0.068415                  -0.636238        3.642977   \n",
       "4                         0.600866                   1.123492        1.178930   \n",
       "\n",
       "   StdDMSNRCurve  ExcessKurtosisDMSNRCurve  SkewnessDMSNRCurve  Class  \n",
       "0      19.110426                  7.975532           74.242225      0  \n",
       "1      14.860146                 10.576487          127.393580      0  \n",
       "2      21.744669                  7.735822           63.171909      0  \n",
       "3      20.959280                  6.896499           53.593661      0  \n",
       "4      11.468720                 14.269573          252.567306      0  "
      ]
     },
     "execution_count": 6,
     "metadata": {},
     "output_type": "execute_result"
    }
   ],
   "source": [
    "pulsar_data.head()"
   ]
  },
  {
   "cell_type": "code",
   "execution_count": 7,
   "metadata": {
    "colab": {
     "base_uri": "https://localhost:8080/",
     "height": 238
    },
    "colab_type": "code",
    "executionInfo": {
     "elapsed": 501,
     "status": "ok",
     "timestamp": 1553562800623,
     "user": {
      "displayName": "JOSE ULISES MORALES PARIONA",
      "photoUrl": "",
      "userId": "00382232284297406068"
     },
     "user_tz": 300
    },
    "id": "_TJYsG9PSOOt",
    "outputId": "b0efa6b8-11f4-43f0-bfda-8d0101eb169c",
    "scrolled": true
   },
   "outputs": [
    {
     "data": {
      "text/plain": [
       "MeanIntegratedProfile              17898\n",
       "StdIntegratedProfile               17898\n",
       "ExcessKurtosisIntegratedProfile    17898\n",
       "SkewnessIntegratedProfile          17898\n",
       "MeanDMSNRCurve                     17898\n",
       "StdDMSNRCurve                      17898\n",
       "ExcessKurtosisDMSNRCurve           17898\n",
       "SkewnessDMSNRCurve                 17898\n",
       "Class                              17898\n",
       "dtype: int64"
      ]
     },
     "execution_count": 7,
     "metadata": {},
     "output_type": "execute_result"
    }
   ],
   "source": [
    "#Verificamos si existen datos faltantes\n",
    "pulsar_data.count()"
   ]
  },
  {
   "cell_type": "code",
   "execution_count": 8,
   "metadata": {
    "colab": {},
    "colab_type": "code",
    "id": "LP_fvjm1SOOx",
    "outputId": "cdd38dd6-9474-4048-b939-505794b2ec1c"
   },
   "outputs": [
    {
     "data": {
      "text/plain": [
       "MeanIntegratedProfile               8626\n",
       "StdIntegratedProfile               17862\n",
       "ExcessKurtosisIntegratedProfile    17897\n",
       "SkewnessIntegratedProfile          17898\n",
       "MeanDMSNRCurve                      9000\n",
       "StdDMSNRCurve                      17894\n",
       "ExcessKurtosisDMSNRCurve           17895\n",
       "SkewnessDMSNRCurve                 17895\n",
       "Class                                  2\n",
       "dtype: int64"
      ]
     },
     "execution_count": 8,
     "metadata": {},
     "output_type": "execute_result"
    }
   ],
   "source": [
    "pulsar_data.nunique()"
   ]
  },
  {
   "cell_type": "code",
   "execution_count": 9,
   "metadata": {},
   "outputs": [
    {
     "data": {
      "text/plain": [
       "MeanIntegratedProfile              0.481953\n",
       "StdIntegratedProfile               0.997989\n",
       "ExcessKurtosisIntegratedProfile    0.999944\n",
       "SkewnessIntegratedProfile          1.000000\n",
       "MeanDMSNRCurve                     0.502849\n",
       "StdDMSNRCurve                      0.999777\n",
       "ExcessKurtosisDMSNRCurve           0.999832\n",
       "SkewnessDMSNRCurve                 0.999832\n",
       "Class                              0.000112\n",
       "dtype: float64"
      ]
     },
     "execution_count": 9,
     "metadata": {},
     "output_type": "execute_result"
    }
   ],
   "source": [
    "# % de registros únicos por variable\n",
    "pulsar_data.nunique() / len(pulsar_data)"
   ]
  },
  {
   "cell_type": "code",
   "execution_count": 10,
   "metadata": {},
   "outputs": [
    {
     "data": {
      "text/plain": [
       "MeanIntegratedProfile              0.0\n",
       "StdIntegratedProfile               0.0\n",
       "ExcessKurtosisIntegratedProfile    0.0\n",
       "SkewnessIntegratedProfile          0.0\n",
       "MeanDMSNRCurve                     0.0\n",
       "StdDMSNRCurve                      0.0\n",
       "ExcessKurtosisDMSNRCurve           0.0\n",
       "SkewnessDMSNRCurve                 0.0\n",
       "Class                              0.0\n",
       "dtype: float64"
      ]
     },
     "execution_count": 10,
     "metadata": {},
     "output_type": "execute_result"
    }
   ],
   "source": [
    "# % de datos faltantes\n",
    "pulsar_data.isna().sum() / len(pulsar_data)"
   ]
  },
  {
   "cell_type": "markdown",
   "metadata": {
    "colab_type": "text",
    "id": "0dXKDYABSOO1"
   },
   "source": [
    "#### Observamos como se mueven los datos segun los atributos, mostrando graficos."
   ]
  },
  {
   "cell_type": "code",
   "execution_count": 11,
   "metadata": {},
   "outputs": [
    {
     "name": "stderr",
     "output_type": "stream",
     "text": [
      "C:\\Users\\ULISES\\Anaconda3\\lib\\site-packages\\scipy\\stats\\stats.py:1713: FutureWarning: Using a non-tuple sequence for multidimensional indexing is deprecated; use `arr[tuple(seq)]` instead of `arr[seq]`. In the future this will be interpreted as an array index, `arr[np.array(seq)]`, which will result either in an error or a different result.\n",
      "  return np.add.reduce(sorted[indexer] * weights, axis=axis) / sumval\n"
     ]
    },
    {
     "data": {
      "image/png": "[encoded data removed]",
      "text/plain": [
       "<Figure size 936x360 with 8 Axes>"
      ]
     },
     "metadata": {
      "needs_background": "light"
     },
     "output_type": "display_data"
    }
   ],
   "source": [
    "fig, axes = plt.subplots(nrows=2, ncols=4, figsize=(13,5))\n",
    "for c,ax in zip(pulsar_data, axes.flatten()):\n",
    "    sns.distplot(pulsar_data[c], ax=ax)\n",
    "    \n",
    "plt.tight_layout()"
   ]
  },
  {
   "cell_type": "markdown",
   "metadata": {
    "colab_type": "text",
    "id": "0dXKDYABSOO1"
   },
   "source": [
    "#### Normalizamos la data."
   ]
  },
  {
   "cell_type": "code",
   "execution_count": 12,
   "metadata": {},
   "outputs": [],
   "source": [
    "x = pulsar_data.drop('Class', axis = 1, inplace = False)\n",
    "y = pulsar_data['Class']"
   ]
  },
  {
   "cell_type": "code",
   "execution_count": 13,
   "metadata": {},
   "outputs": [
    {
     "data": {
      "text/plain": [
       "array([[ 1.14931702,  1.33483164, -0.66956953, ..., -0.37062547,\n",
       "        -0.07279778, -0.28743812],\n",
       "       [-0.3341682 ,  1.80226533, -0.01178476, ..., -0.5889241 ,\n",
       "         0.50442694,  0.21158145],\n",
       "       [-0.31437216, -1.05332222, -0.14523256, ..., -0.23532816,\n",
       "        -0.12599609, -0.39137346],\n",
       "       ...,\n",
       "       [ 0.3218423 ,  1.95621968, -0.2993338 , ...,  1.67156847,\n",
       "        -1.28807874, -0.94133005],\n",
       "       [ 0.13362759,  1.07450972, -0.26005007, ..., -0.66485697,\n",
       "         0.37825656,  0.27584987],\n",
       "       [-2.10576204,  5.73546965,  0.87267394, ...,  1.97154554,\n",
       "        -2.19732744, -0.97105168]])"
      ]
     },
     "execution_count": 13,
     "metadata": {},
     "output_type": "execute_result"
    }
   ],
   "source": [
    "normalized_x = scale(x)\n",
    "normalized_x"
   ]
  },
  {
   "cell_type": "markdown",
   "metadata": {
    "colab_type": "text",
    "id": "0dXKDYABSOO1"
   },
   "source": [
    "#### Separamos la data en data de Entrenamiendo y Validación."
   ]
  },
  {
   "cell_type": "code",
   "execution_count": 15,
   "metadata": {},
   "outputs": [
    {
     "name": "stdout",
     "output_type": "stream",
     "text": [
      "Train shape     : (16108, 8)\n",
      "Validation shape: (1790, 8)\n"
     ]
    }
   ],
   "source": [
    "x_train, x_test, y_train, y_test = train_test_split(normalized_x,\n",
    "                                                    y,\n",
    "                                                    test_size = 0.1,\n",
    "                                                    random_state = 42,\n",
    "                                                    stratify = y)\n",
    "print(f'Train shape     : {x_train.shape}')\n",
    "print(f'Validation shape: {x_test.shape}')"
   ]
  },
  {
   "cell_type": "markdown",
   "metadata": {
    "colab_type": "text",
    "id": "JvQxWThuSOOJ"
   },
   "source": [
    "## ● FOREST CLASSIFIER"
   ]
  },
  {
   "cell_type": "markdown",
   "metadata": {
    "colab_type": "text",
    "id": "0dXKDYABSOO1"
   },
   "source": [
    "#### Aplicando GridSearchCV para escoger el mejor criterio y profundidad  ."
   ]
  },
  {
   "cell_type": "code",
   "execution_count": 67,
   "metadata": {},
   "outputs": [
    {
     "data": {
      "text/plain": [
       "GridSearchCV(cv=5, error_score='raise-deprecating',\n",
       "       estimator=DecisionTreeClassifier(class_weight=None, criterion='gini', max_depth=None,\n",
       "            max_features=None, max_leaf_nodes=None,\n",
       "            min_impurity_decrease=0.0, min_impurity_split=None,\n",
       "            min_samples_leaf=1, min_samples_split=2,\n",
       "            min_weight_fraction_leaf=0.0, presort=False, random_state=None,\n",
       "            splitter='best'),\n",
       "       fit_params=None, iid='warn', n_jobs=None,\n",
       "       param_grid={'criterion': ['gini', 'entropy'], 'max_depth': [4, 5, 6, 7, 8, 9, 10]},\n",
       "       pre_dispatch='2*n_jobs', refit=True, return_train_score='warn',\n",
       "       scoring='f1', verbose=0)"
      ]
     },
     "execution_count": 67,
     "metadata": {},
     "output_type": "execute_result"
    }
   ],
   "source": [
    "from sklearn.tree import DecisionTreeClassifier\n",
    "grid_param = {  \n",
    "    'criterion': ['gini','entropy'],\n",
    "    'max_depth': [4,5,6,7,8,9,10]\n",
    "}\n",
    "\n",
    "grid_search = GridSearchCV(estimator = DecisionTreeClassifier(),\n",
    "                           param_grid = grid_param,\n",
    "                           scoring = 'f1',\n",
    "                           cv = 5)\n",
    "\n",
    "grid_search.fit(x_train, y_train)"
   ]
  },
  {
   "cell_type": "code",
   "execution_count": 68,
   "metadata": {},
   "outputs": [
    {
     "name": "stdout",
     "output_type": "stream",
     "text": [
      "# Tuning hyper-parameters for f1\n",
      "\n",
      "Best parameters set found on development set:\n",
      "\n",
      "{'criterion': 'gini', 'max_depth': 4}\n",
      "\n",
      "Grid scores on development set:\n",
      "\n",
      "0.8842 (+/-0.0219) for {'criterion': 'gini', 'max_depth': 4}\n",
      "0.8819 (+/-0.0242) for {'criterion': 'gini', 'max_depth': 5}\n",
      "0.8795 (+/-0.0212) for {'criterion': 'gini', 'max_depth': 6}\n",
      "0.8790 (+/-0.0170) for {'criterion': 'gini', 'max_depth': 7}\n",
      "0.8744 (+/-0.0146) for {'criterion': 'gini', 'max_depth': 8}\n",
      "0.8751 (+/-0.0199) for {'criterion': 'gini', 'max_depth': 9}\n",
      "0.8691 (+/-0.0195) for {'criterion': 'gini', 'max_depth': 10}\n",
      "0.8802 (+/-0.0299) for {'criterion': 'entropy', 'max_depth': 4}\n",
      "0.8769 (+/-0.0184) for {'criterion': 'entropy', 'max_depth': 5}\n",
      "0.8766 (+/-0.0271) for {'criterion': 'entropy', 'max_depth': 6}\n",
      "0.8762 (+/-0.0166) for {'criterion': 'entropy', 'max_depth': 7}\n",
      "0.8706 (+/-0.0189) for {'criterion': 'entropy', 'max_depth': 8}\n",
      "0.8692 (+/-0.0171) for {'criterion': 'entropy', 'max_depth': 9}\n",
      "0.8651 (+/-0.0199) for {'criterion': 'entropy', 'max_depth': 10}\n"
     ]
    }
   ],
   "source": [
    "\n",
    "print('# Tuning hyper-parameters for f1')\n",
    "print()\n",
    "\n",
    "print('Best parameters set found on development set:')\n",
    "print()\n",
    "print(grid_search.best_params_)\n",
    "print()\n",
    "print('Grid scores on development set:')\n",
    "print()\n",
    "means = grid_search.cv_results_['mean_test_score']\n",
    "stds = grid_search.cv_results_['std_test_score']\n",
    "for mean, std, params in zip(means, stds, grid_search.cv_results_['params']):\n",
    "    print('%0.4f (+/-%0.04f) for %r'\n",
    "          % (mean, std * 2, params))"
   ]
  },
  {
   "cell_type": "markdown",
   "metadata": {
    "colab_type": "text",
    "id": "0dXKDYABSOO1"
   },
   "source": [
    "#### Entrenando el arbol de decision  ."
   ]
  },
  {
   "cell_type": "code",
   "execution_count": 69,
   "metadata": {},
   "outputs": [
    {
     "data": {
      "text/plain": [
       "DecisionTreeClassifier(class_weight=None, criterion='gini', max_depth=4,\n",
       "            max_features=None, max_leaf_nodes=None,\n",
       "            min_impurity_decrease=0.0, min_impurity_split=None,\n",
       "            min_samples_leaf=1, min_samples_split=2,\n",
       "            min_weight_fraction_leaf=0.0, presort=False, random_state=None,\n",
       "            splitter='best')"
      ]
     },
     "execution_count": 69,
     "metadata": {},
     "output_type": "execute_result"
    }
   ],
   "source": [
    "# Entrenamos un arbol con poca segun la profundidad encontrada:\n",
    "from sklearn.tree import DecisionTreeClassifier\n",
    "f = DecisionTreeClassifier(criterion='gini',max_depth=4)\n",
    "f.fit(x_train, y_train)"
   ]
  },
  {
   "cell_type": "code",
   "execution_count": 70,
   "metadata": {},
   "outputs": [
    {
     "name": "stdout",
     "output_type": "stream",
     "text": [
      "Train     : 0.9810653091631487\n",
      "Validation: 0.9770949720670391\n"
     ]
    }
   ],
   "source": [
    "# Observamos que se tiene casi el mismo score.. descartando si existe Overfitting\n",
    "print(f'Train     : {f.score(x_train, y_train)}')\n",
    "print(f'Validation: {f.score(x_test, y_test)}')"
   ]
  },
  {
   "cell_type": "code",
   "execution_count": 71,
   "metadata": {},
   "outputs": [
    {
     "data": {
      "text/plain": [
       "(0.018934690836851256, 0.022905027932960894)"
      ]
     },
     "execution_count": 71,
     "metadata": {},
     "output_type": "execute_result"
    }
   ],
   "source": [
    "# veamos el mse\n",
    "from sklearn.metrics import mean_squared_error\n",
    "mean_squared_error(y_train, f.predict(x_train)), mean_squared_error(y_test, f.predict(x_test))"
   ]
  },
  {
   "cell_type": "markdown",
   "metadata": {
    "colab_type": "text",
    "id": "0dXKDYABSOO1"
   },
   "source": [
    "#### Evaluacion del Modelo."
   ]
  },
  {
   "cell_type": "code",
   "execution_count": 72,
   "metadata": {},
   "outputs": [
    {
     "name": "stdout",
     "output_type": "stream",
     "text": [
      "Predicciones correctas :  1749\n",
      "Número de muestras     :  1790\n",
      "Exactitud (manual)     :  0.9770949720670391\n",
      "Exactitud (score)      :  0.9770949720670391\n",
      "Exactitud (metrics)    :  0.9770949720670391\n"
     ]
    }
   ],
   "source": [
    "from sklearn import metrics\n",
    "\n",
    "predicciones_test = f.predict(x_test)\n",
    "num_predicciones_correctas = (y_test == predicciones_test).sum()\n",
    "num_total_de_muestras = len(y_test)\n",
    "exactitud = num_predicciones_correctas / num_total_de_muestras\n",
    "\n",
    "print ( 'Predicciones correctas : ', num_predicciones_correctas )\n",
    "print ( 'Número de muestras     : ', num_total_de_muestras )\n",
    "print ( 'Exactitud (manual)     : ', exactitud )\n",
    "\n",
    "# Usando scikit-learn\n",
    "print ( 'Exactitud (score)      : ', f.score(x_test, y_test) )\n",
    "print ( 'Exactitud (metrics)    : ', metrics.accuracy_score(y_test, predicciones_test) )"
   ]
  },
  {
   "cell_type": "markdown",
   "metadata": {
    "colab_type": "text",
    "id": "0dXKDYABSOO1"
   },
   "source": [
    "#### Matriz de Confusion."
   ]
  },
  {
   "cell_type": "code",
   "execution_count": 73,
   "metadata": {},
   "outputs": [
    {
     "name": "stdout",
     "output_type": "stream",
     "text": [
      "              +-----------------+\n",
      "              |   Predicción    |\n",
      "              +-----------------+\n",
      "              |    +   |    -   |\n",
      "+-------+-----+--------+--------+\n",
      "| Valor |  +  |   135 |   29   |\n",
      "| real  +-----+--------+--------+\n",
      "|       |  -  |   12  |   1614  |\n",
      "+-------+-----+--------+--------+\n",
      "\n",
      "Exactitud    :  0.9770949720670391\n"
     ]
    }
   ],
   "source": [
    "matriz_confusion = metrics.confusion_matrix(y_test, predicciones_test)\n",
    "\n",
    "# Mapeo según http://scikit-learn.org/stable/modules/generated/sklearn.metrics.confusion_matrix.html\n",
    "TN = matriz_confusion[0,0]\n",
    "FN = matriz_confusion[1,0]\n",
    "FP = matriz_confusion[0,1]\n",
    "TP = matriz_confusion[1,1]\n",
    "\n",
    "print ('              +-----------------+')\n",
    "print ('              |   Predicción    |')\n",
    "print ('              +-----------------+')\n",
    "print ('              |    +   |    -   |')\n",
    "print ('+-------+-----+--------+--------+')\n",
    "print ('| Valor |  +  |   %d |   %d   |'   % (TP, FN) )\n",
    "print ('| real  +-----+--------+--------+')\n",
    "print ('|       |  -  |   %d  |   %d  |'    % (FP, TN) )\n",
    "print ('+-------+-----+--------+--------+')\n",
    "print ()\n",
    "print ( 'Exactitud    : ', (TP+TN)/(TP+FN+FP+TN) )"
   ]
  },
  {
   "cell_type": "code",
   "execution_count": 74,
   "metadata": {},
   "outputs": [
    {
     "name": "stdout",
     "output_type": "stream",
     "text": [
      "Regresión logística\n",
      "\t-Mejores hiper-parámetros: [5.69666408e-03 6.45843814e-03 9.53645945e-01 6.94219336e-04\n",
      " 0.00000000e+00 2.83388441e-02 3.26038921e-03 1.90550005e-03]\n",
      "\t-Puntaje f1 en entrenamiento: 0.8913\n",
      "\t-Puntaje f1 en pruebas: 0.8682\n"
     ]
    }
   ],
   "source": [
    "print('Regresión logística')\n",
    "print('\\t-Mejores hiper-parámetros: ' + str(f.feature_importances_))\n",
    "print('\\t-Puntaje f1 en entrenamiento: %.4f' % f1_score(y_train, f.predict(x_train), average = 'binary'))\n",
    "print('\\t-Puntaje f1 en pruebas: %.4f' % f1_score(y_test, f.predict(x_test), average = 'binary'))"
   ]
  },
  {
   "cell_type": "markdown",
   "metadata": {
    "colab_type": "text",
    "id": "0dXKDYABSOO1"
   },
   "source": [
    "#### Curva ROC."
   ]
  },
  {
   "cell_type": "code",
   "execution_count": 24,
   "metadata": {},
   "outputs": [
    {
     "name": "stdout",
     "output_type": "stream",
     "text": [
      "Probabilidad de la clase negativa y de la clase positiva :\n",
      "[[0.97936726 0.02063274]\n",
      " [0.99032833 0.00967167]\n",
      " [0.99865047 0.00134953]\n",
      " ...\n",
      " [0.97936726 0.02063274]\n",
      " [0.97936726 0.02063274]\n",
      " [0.97936726 0.02063274]]\n"
     ]
    }
   ],
   "source": [
    "probabilidades_test = f.predict_proba(x_test)\n",
    "print ('Probabilidad de la clase negativa y de la clase positiva :')\n",
    "print (probabilidades_test)"
   ]
  },
  {
   "cell_type": "code",
   "execution_count": 25,
   "metadata": {},
   "outputs": [
    {
     "name": "stdout",
     "output_type": "stream",
     "text": [
      "Exactitud :  0.07541899441340782\n"
     ]
    }
   ],
   "source": [
    "# Predecimos +1 siempre que la probabilidad de la clase positiva sea mayor a 0.5\n",
    "predicciones_test = np.where(probabilidades_test[:,1] > 0.5, +1, -1) \n",
    "print ( 'Exactitud : ', metrics.accuracy_score(y_test, predicciones_test) )"
   ]
  },
  {
   "cell_type": "code",
   "execution_count": 26,
   "metadata": {},
   "outputs": [
    {
     "data": {
      "text/plain": [
       "<matplotlib.legend.Legend at 0x219981247b8>"
      ]
     },
     "execution_count": 26,
     "metadata": {},
     "output_type": "execute_result"
    },
    {
     "data": {
      "image/png": "[encoded data removed]",
      "text/plain": [
       "<Figure size 432x288 with 1 Axes>"
      ]
     },
     "metadata": {
      "needs_background": "light"
     },
     "output_type": "display_data"
    }
   ],
   "source": [
    "fpr, tpr, umbrales = metrics.roc_curve(y_test, probabilidades_test[:,1])\n",
    "auc_roc = metrics.roc_auc_score(y_test, probabilidades_test[:,1])\n",
    "\n",
    "plt.rcParams.update({'font.size': 9})\n",
    "plt.plot(fpr, tpr, label= (\"Curva ROC\") )\n",
    "plt.xlabel(\"FPR\")\n",
    "plt.ylabel(\"TPR (exhaustividad)\")\n",
    "plt.title((\"Curva ROC (AUC = %.4f)\" % auc_roc))\n",
    "# ubicamos el punto más cercano a 0.5\n",
    "umbral_05 = np.argmin(np.abs(umbrales - 0.5))\n",
    "plt.plot(fpr[umbral_05], tpr[umbral_05], 'o', markersize=10,\n",
    "         label=\"Umbral 0.5\", fillstyle=\"none\", c='r', mew=2)\n",
    "plt.legend(loc='best', numpoints = 1)"
   ]
  },
  {
   "cell_type": "markdown",
   "metadata": {
    "colab_type": "text",
    "id": "JvQxWThuSOOJ"
   },
   "source": [
    "## ● RANDOM FOREST CLASSIFIER"
   ]
  },
  {
   "cell_type": "code",
   "execution_count": 54,
   "metadata": {},
   "outputs": [],
   "source": [
    "from sklearn.ensemble import RandomForestClassifier"
   ]
  },
  {
   "cell_type": "markdown",
   "metadata": {
    "colab_type": "text",
    "id": "0dXKDYABSOO1"
   },
   "source": [
    "#### Aplicando GridSearchCV para escoger el mejor criterio y profundidad  ."
   ]
  },
  {
   "cell_type": "code",
   "execution_count": 82,
   "metadata": {},
   "outputs": [
    {
     "data": {
      "text/plain": [
       "GridSearchCV(cv=5, error_score='raise-deprecating',\n",
       "       estimator=RandomForestClassifier(bootstrap=True, class_weight=None, criterion='gini',\n",
       "            max_depth=None, max_features='auto', max_leaf_nodes=None,\n",
       "            min_impurity_decrease=0.0, min_impurity_split=None,\n",
       "            min_samples_leaf=1, min_samples_split=2,\n",
       "            min_weight_fraction_leaf=0.0, n_estimators='warn', n_jobs=None,\n",
       "            oob_score=False, random_state=None, verbose=0,\n",
       "            warm_start=False),\n",
       "       fit_params=None, iid='warn', n_jobs=None,\n",
       "       param_grid={'n_estimators': [10, 20, 30, 40, 100], 'max_features': ['auto', 'sqrt', 'log2'], 'max_depth': [4, 5]},\n",
       "       pre_dispatch='2*n_jobs', refit=True, return_train_score='warn',\n",
       "       scoring=None, verbose=0)"
      ]
     },
     "execution_count": 82,
     "metadata": {},
     "output_type": "execute_result"
    }
   ],
   "source": [
    "grid_param_ran = {  \n",
    "    'n_estimators': [10, 20,30,40,100],\n",
    "    'max_features': ['auto', 'sqrt', 'log2'],\n",
    "    'max_depth' : [4,5]\n",
    "}\n",
    "\n",
    "grid_random = GridSearchCV(estimator = RandomForestClassifier(),\n",
    "                           param_grid = grid_param_ran,\n",
    "                           cv = 5)\n",
    "\n",
    "grid_random.fit(x_train, y_train)"
   ]
  },
  {
   "cell_type": "code",
   "execution_count": 83,
   "metadata": {},
   "outputs": [
    {
     "name": "stdout",
     "output_type": "stream",
     "text": [
      "# Tuning hyper-parameters for f1\n",
      "\n",
      "Best parameters set found on development set:\n",
      "\n",
      "{'max_depth': 5, 'max_features': 'log2', 'n_estimators': 40}\n",
      "\n",
      "Grid scores on development set:\n",
      "\n",
      "0.9775 (+/-0.0050) for {'max_depth': 4, 'max_features': 'auto', 'n_estimators': 10}\n",
      "0.9775 (+/-0.0046) for {'max_depth': 4, 'max_features': 'auto', 'n_estimators': 20}\n",
      "0.9780 (+/-0.0039) for {'max_depth': 4, 'max_features': 'auto', 'n_estimators': 30}\n",
      "0.9782 (+/-0.0034) for {'max_depth': 4, 'max_features': 'auto', 'n_estimators': 40}\n",
      "0.9783 (+/-0.0040) for {'max_depth': 4, 'max_features': 'auto', 'n_estimators': 100}\n",
      "0.9780 (+/-0.0034) for {'max_depth': 4, 'max_features': 'sqrt', 'n_estimators': 10}\n",
      "0.9780 (+/-0.0038) for {'max_depth': 4, 'max_features': 'sqrt', 'n_estimators': 20}\n",
      "0.9782 (+/-0.0038) for {'max_depth': 4, 'max_features': 'sqrt', 'n_estimators': 30}\n",
      "0.9785 (+/-0.0032) for {'max_depth': 4, 'max_features': 'sqrt', 'n_estimators': 40}\n",
      "0.9788 (+/-0.0033) for {'max_depth': 4, 'max_features': 'sqrt', 'n_estimators': 100}\n",
      "0.9782 (+/-0.0028) for {'max_depth': 4, 'max_features': 'log2', 'n_estimators': 10}\n",
      "0.9788 (+/-0.0035) for {'max_depth': 4, 'max_features': 'log2', 'n_estimators': 20}\n",
      "0.9787 (+/-0.0037) for {'max_depth': 4, 'max_features': 'log2', 'n_estimators': 30}\n",
      "0.9787 (+/-0.0039) for {'max_depth': 4, 'max_features': 'log2', 'n_estimators': 40}\n",
      "0.9791 (+/-0.0032) for {'max_depth': 4, 'max_features': 'log2', 'n_estimators': 100}\n",
      "0.9785 (+/-0.0026) for {'max_depth': 5, 'max_features': 'auto', 'n_estimators': 10}\n",
      "0.9782 (+/-0.0034) for {'max_depth': 5, 'max_features': 'auto', 'n_estimators': 20}\n",
      "0.9788 (+/-0.0048) for {'max_depth': 5, 'max_features': 'auto', 'n_estimators': 30}\n",
      "0.9788 (+/-0.0049) for {'max_depth': 5, 'max_features': 'auto', 'n_estimators': 40}\n",
      "0.9783 (+/-0.0036) for {'max_depth': 5, 'max_features': 'auto', 'n_estimators': 100}\n",
      "0.9784 (+/-0.0024) for {'max_depth': 5, 'max_features': 'sqrt', 'n_estimators': 10}\n",
      "0.9790 (+/-0.0035) for {'max_depth': 5, 'max_features': 'sqrt', 'n_estimators': 20}\n",
      "0.9790 (+/-0.0032) for {'max_depth': 5, 'max_features': 'sqrt', 'n_estimators': 30}\n",
      "0.9790 (+/-0.0035) for {'max_depth': 5, 'max_features': 'sqrt', 'n_estimators': 40}\n",
      "0.9786 (+/-0.0027) for {'max_depth': 5, 'max_features': 'sqrt', 'n_estimators': 100}\n",
      "0.9784 (+/-0.0039) for {'max_depth': 5, 'max_features': 'log2', 'n_estimators': 10}\n",
      "0.9793 (+/-0.0032) for {'max_depth': 5, 'max_features': 'log2', 'n_estimators': 20}\n",
      "0.9793 (+/-0.0032) for {'max_depth': 5, 'max_features': 'log2', 'n_estimators': 30}\n",
      "0.9796 (+/-0.0029) for {'max_depth': 5, 'max_features': 'log2', 'n_estimators': 40}\n",
      "0.9788 (+/-0.0031) for {'max_depth': 5, 'max_features': 'log2', 'n_estimators': 100}\n"
     ]
    }
   ],
   "source": [
    "\n",
    "print('# Tuning hyper-parameters for f1')\n",
    "print()\n",
    "\n",
    "print('Best parameters set found on development set:')\n",
    "print()\n",
    "print(grid_random.best_params_)\n",
    "print()\n",
    "print('Grid scores on development set:')\n",
    "print()\n",
    "means = grid_random.cv_results_['mean_test_score']\n",
    "stds = grid_random.cv_results_['std_test_score']\n",
    "for mean, std, params in zip(means, stds, grid_random.cv_results_['params']):\n",
    "    print('%0.4f (+/-%0.04f) for %r'\n",
    "          % (mean, std * 2, params))"
   ]
  },
  {
   "cell_type": "markdown",
   "metadata": {
    "colab_type": "text",
    "id": "0dXKDYABSOO1"
   },
   "source": [
    "#### Entrenando el arbol de decision  ."
   ]
  },
  {
   "cell_type": "code",
   "execution_count": 84,
   "metadata": {},
   "outputs": [
    {
     "data": {
      "text/plain": [
       "RandomForestClassifier(bootstrap=True, class_weight=None, criterion='gini',\n",
       "            max_depth=5, max_features='log2', max_leaf_nodes=None,\n",
       "            min_impurity_decrease=0.0, min_impurity_split=None,\n",
       "            min_samples_leaf=1, min_samples_split=2,\n",
       "            min_weight_fraction_leaf=0.0, n_estimators=10, n_jobs=None,\n",
       "            oob_score=False, random_state=None, verbose=0,\n",
       "            warm_start=False)"
      ]
     },
     "execution_count": 84,
     "metadata": {},
     "output_type": "execute_result"
    }
   ],
   "source": [
    "\n",
    "m = RandomForestClassifier(max_depth = 5,max_features = 'log2', n_estimators  = 10)\n",
    "m.fit(x_train, y_train)"
   ]
  },
  {
   "cell_type": "code",
   "execution_count": 85,
   "metadata": {},
   "outputs": [
    {
     "name": "stdout",
     "output_type": "stream",
     "text": [
      "Train     : 0.9808790663024584\n",
      "Validation: 0.9770949720670391\n"
     ]
    }
   ],
   "source": [
    "# Observamos que se tiene variacion en el score\n",
    "print(f'Train     : {m.score(x_train, y_train)}')\n",
    "print(f'Validation: {m.score(x_test, y_test)}')"
   ]
  },
  {
   "cell_type": "code",
   "execution_count": 86,
   "metadata": {},
   "outputs": [
    {
     "data": {
      "text/plain": [
       "(0.019120933697541594, 0.022905027932960894)"
      ]
     },
     "execution_count": 86,
     "metadata": {},
     "output_type": "execute_result"
    }
   ],
   "source": [
    "# veamos el mse\n",
    "from sklearn.metrics import mean_squared_error\n",
    "mean_squared_error(y_train, m.predict(x_train)), mean_squared_error(y_test,m.predict(x_test))"
   ]
  },
  {
   "cell_type": "code",
   "execution_count": 87,
   "metadata": {},
   "outputs": [
    {
     "name": "stdout",
     "output_type": "stream",
     "text": [
      "Scores:\n",
      "Train      = 0.9809\n",
      "Validation = 0.9771\n"
     ]
    }
   ],
   "source": [
    "def score():\n",
    "    print(f'Scores:')\n",
    "    print(f'Train      = {m.score(x_train, y_train):.4}')\n",
    "    print(f'Validation = {m.score(x_test, y_test):.4}')\n",
    "    if hasattr(m, 'oob_score_'): print(f'OOB        = {m.oob_score_:.4}')\n",
    "    \n",
    "score() "
   ]
  },
  {
   "cell_type": "markdown",
   "metadata": {
    "colab_type": "text",
    "id": "0dXKDYABSOO1"
   },
   "source": [
    "#### Caracteristicas Importantes."
   ]
  },
  {
   "cell_type": "code",
   "execution_count": 88,
   "metadata": {},
   "outputs": [
    {
     "data": {
      "text/plain": [
       "array([0.16907524, 0.01104262, 0.35855508, 0.38579745, 0.00800662,\n",
       "       0.05750907, 0.00531871, 0.00469523])"
      ]
     },
     "execution_count": 88,
     "metadata": {},
     "output_type": "execute_result"
    }
   ],
   "source": [
    "m.feature_importances_"
   ]
  },
  {
   "cell_type": "markdown",
   "metadata": {
    "colab_type": "text",
    "id": "0dXKDYABSOO1"
   },
   "source": [
    "#### Evaluacion del Modelo."
   ]
  },
  {
   "cell_type": "code",
   "execution_count": 89,
   "metadata": {},
   "outputs": [
    {
     "name": "stdout",
     "output_type": "stream",
     "text": [
      "Predicciones correctas :  1749\n",
      "Número de muestras     :  1790\n",
      "Exactitud (manual)     :  0.9770949720670391\n",
      "Exactitud (score)      :  0.9770949720670391\n",
      "Exactitud (metrics)    :  0.9770949720670391\n"
     ]
    }
   ],
   "source": [
    "from sklearn import metrics\n",
    "\n",
    "predicciones_test = m.predict(x_test)\n",
    "num_predicciones_correctas = (y_test == predicciones_test).sum()\n",
    "num_total_de_muestras = len(y_test)\n",
    "exactitud = num_predicciones_correctas / num_total_de_muestras\n",
    "\n",
    "print ( 'Predicciones correctas : ', num_predicciones_correctas )\n",
    "print ( 'Número de muestras     : ', num_total_de_muestras )\n",
    "print ( 'Exactitud (manual)     : ', exactitud )\n",
    "\n",
    "# Usando scikit-learn\n",
    "print ( 'Exactitud (score)      : ', m.score(x_test, y_test) )\n",
    "print ( 'Exactitud (metrics)    : ', metrics.accuracy_score(y_test, predicciones_test) )"
   ]
  },
  {
   "cell_type": "markdown",
   "metadata": {
    "colab_type": "text",
    "id": "0dXKDYABSOO1"
   },
   "source": [
    "#### Matriz de Confusion."
   ]
  },
  {
   "cell_type": "code",
   "execution_count": 90,
   "metadata": {},
   "outputs": [
    {
     "name": "stdout",
     "output_type": "stream",
     "text": [
      "              +-----------------+\n",
      "              |   Predicción    |\n",
      "              +-----------------+\n",
      "              |    +   |    -   |\n",
      "+-------+-----+--------+--------+\n",
      "| Valor |  +  |   134 |   30   |\n",
      "| real  +-----+--------+--------+\n",
      "|       |  -  |   11  |   1615  |\n",
      "+-------+-----+--------+--------+\n",
      "\n",
      "Exactitud    :  0.9770949720670391\n"
     ]
    }
   ],
   "source": [
    "matriz_confusion = metrics.confusion_matrix(y_test, predicciones_test)\n",
    "\n",
    "# Mapeo según http://scikit-learn.org/stable/modules/generated/sklearn.metrics.confusion_matrix.html\n",
    "TN = matriz_confusion[0,0]\n",
    "FN = matriz_confusion[1,0]\n",
    "FP = matriz_confusion[0,1]\n",
    "TP = matriz_confusion[1,1]\n",
    "\n",
    "print ('              +-----------------+')\n",
    "print ('              |   Predicción    |')\n",
    "print ('              +-----------------+')\n",
    "print ('              |    +   |    -   |')\n",
    "print ('+-------+-----+--------+--------+')\n",
    "print ('| Valor |  +  |   %d |   %d   |'   % (TP, FN) )\n",
    "print ('| real  +-----+--------+--------+')\n",
    "print ('|       |  -  |   %d  |   %d  |'    % (FP, TN) )\n",
    "print ('+-------+-----+--------+--------+')\n",
    "print ()\n",
    "print ( 'Exactitud    : ', (TP+TN)/(TP+FN+FP+TN) )"
   ]
  },
  {
   "cell_type": "code",
   "execution_count": 91,
   "metadata": {},
   "outputs": [
    {
     "name": "stdout",
     "output_type": "stream",
     "text": [
      "Regresión logística\n",
      "\t-Mejores hiper-parámetros: [0.16907524 0.01104262 0.35855508 0.38579745 0.00800662 0.05750907\n",
      " 0.00531871 0.00469523]\n",
      "\t-Puntaje f1 en entrenamiento: 0.8896\n",
      "\t-Puntaje f1 en pruebas: 0.8673\n"
     ]
    }
   ],
   "source": [
    "print('Regresión logística')\n",
    "print('\\t-Mejores hiper-parámetros: ' + str(m.feature_importances_))\n",
    "print('\\t-Puntaje f1 en entrenamiento: %.4f' % f1_score(y_train, m.predict(x_train), average = 'binary'))\n",
    "print('\\t-Puntaje f1 en pruebas: %.4f' % f1_score(y_test, m.predict(x_test), average = 'binary'))"
   ]
  },
  {
   "cell_type": "code",
   "execution_count": null,
   "metadata": {},
   "outputs": [],
   "source": []
  }
 ],
 "metadata": {
  "colab": {
   "name": "ML-Lab01.ipynb",
   "provenance": [],
   "toc_visible": true,
   "version": "0.3.2"
  },
  "kernelspec": {
   "display_name": "Python 3",
   "language": "python",
   "name": "python3"
  },
  "language_info": {
   "codemirror_mode": {
    "name": "ipython",
    "version": 3
   },
   "file_extension": ".py",
   "mimetype": "text/x-python",
   "name": "python",
   "nbconvert_exporter": "python",
   "pygments_lexer": "ipython3",
   "version": "3.7.1"
  }
 },
 "nbformat": 4,
 "nbformat_minor": 1
}
